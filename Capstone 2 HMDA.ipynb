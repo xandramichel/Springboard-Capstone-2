{
 "cells": [
  {
   "cell_type": "code",
   "execution_count": 1,
   "metadata": {},
   "outputs": [],
   "source": [
    "import pandas as pd\n",
    "import numpy as np\n",
    "from numpy.random import seed\n",
    "seed(123)\n",
    "import matplotlib.pyplot as plt\n",
    "from collections import OrderedDict\n",
    "%matplotlib inline\n",
    "from datetime import datetime\n",
    "import seaborn as sns\n",
    "import geopandas as gpd\n",
    "from sklearn.preprocessing import StandardScaler, MinMaxScaler\n",
    "from sklearn.model_selection import train_test_split, cross_val_score, GridSearchCV\n",
    "import xgboost as xgb\n",
    "from xgboost import plot_importance\n",
    "from sklearn.metrics import explained_variance_score, mean_squared_error, r2_score\n",
    "import time\n",
    "#from keras import models, layers, optimizers, regularizers\n",
    "#from keras.utils.vis_utils import model_to_dot\n",
    "from IPython.display import SVG\n",
    "from statsmodels.tsa.seasonal import seasonal_decompose\n",
    "\n",
    "pd.set_option('display.max_columns', None)\n"
   ]
  },
  {
   "cell_type": "code",
   "execution_count": 2,
   "metadata": {},
   "outputs": [
    {
     "name": "stderr",
     "output_type": "stream",
     "text": [
      "/anaconda3/lib/python3.7/site-packages/IPython/core/interactiveshell.py:3063: DtypeWarning: Columns (4,5,22,23,24,26,27,28,29,30,31,32,33,38,43,44,46,78,80) have mixed types.Specify dtype option on import or set low_memory=False.\n",
      "  interactivity=interactivity, compiler=compiler, result=result)\n"
     ]
    }
   ],
   "source": [
    "df = pd.read_csv('year_2018_state_CA.csv')\n",
    "#original_length = len(df)\n",
    "#print(f\"The dataset contains {original_length} loan files\")"
   ]
  },
  {
   "cell_type": "code",
   "execution_count": 3,
   "metadata": {},
   "outputs": [
    {
     "data": {
      "text/plain": [
       "Index(['activity_year', 'lei', 'derived_msa-md', 'state_code', 'county_code',\n",
       "       'census_tract', 'conforming_loan_limit', 'derived_loan_product_type',\n",
       "       'derived_dwelling_category', 'derived_ethnicity', 'derived_race',\n",
       "       'derived_sex', 'action_taken', 'purchaser_type', 'preapproval',\n",
       "       'loan_type', 'loan_purpose', 'lien_status', 'reverse_mortgage',\n",
       "       'open-end_line_of_credit', 'business_or_commercial_purpose',\n",
       "       'loan_amount', 'loan_to_value_ratio', 'interest_rate', 'rate_spread',\n",
       "       'hoepa_status', 'total_loan_costs', 'total_points_and_fees',\n",
       "       'origination_charges', 'discount_points', 'lender_credits', 'loan_term',\n",
       "       'prepayment_penalty_term', 'intro_rate_period', 'negative_amortization',\n",
       "       'interest_only_payment', 'balloon_payment',\n",
       "       'other_nonamortizing_features', 'property_value', 'construction_method',\n",
       "       'occupancy_type', 'manufactured_home_secured_property_type',\n",
       "       'manufactured_home_land_property_interest', 'total_units',\n",
       "       'multifamily_affordable_units', 'income', 'debt_to_income_ratio',\n",
       "       'applicant_credit_score_type', 'co-applicant_credit_score_type',\n",
       "       'applicant_ethnicity-1', 'applicant_ethnicity-2',\n",
       "       'applicant_ethnicity-3', 'applicant_ethnicity-4',\n",
       "       'applicant_ethnicity-5', 'co-applicant_ethnicity-1',\n",
       "       'co-applicant_ethnicity-2', 'co-applicant_ethnicity-3',\n",
       "       'co-applicant_ethnicity-4', 'co-applicant_ethnicity-5',\n",
       "       'applicant_ethnicity_observed', 'co-applicant_ethnicity_observed',\n",
       "       'applicant_race-1', 'applicant_race-2', 'applicant_race-3',\n",
       "       'applicant_race-4', 'applicant_race-5', 'co-applicant_race-1',\n",
       "       'co-applicant_race-2', 'co-applicant_race-3', 'co-applicant_race-4',\n",
       "       'co-applicant_race-5', 'applicant_race_observed',\n",
       "       'co-applicant_race_observed', 'applicant_sex', 'co-applicant_sex',\n",
       "       'applicant_sex_observed', 'co-applicant_sex_observed', 'applicant_age',\n",
       "       'co-applicant_age', 'applicant_age_above_62',\n",
       "       'co-applicant_age_above_62', 'submission_of_application',\n",
       "       'initially_payable_to_institution', 'aus-1', 'aus-2', 'aus-3', 'aus-4',\n",
       "       'aus-5', 'denial_reason-1', 'denial_reason-2', 'denial_reason-3',\n",
       "       'denial_reason-4', 'tract_population',\n",
       "       'tract_minority_population_percent',\n",
       "       'ffiec_msa_md_median_family_income', 'tract_to_msa_income_percentage',\n",
       "       'tract_owner_occupied_units', 'tract_one_to_four_family_homes',\n",
       "       'tract_median_age_of_housing_units'],\n",
       "      dtype='object')"
      ]
     },
     "execution_count": 3,
     "metadata": {},
     "output_type": "execute_result"
    }
   ],
   "source": [
    "df.columns"
   ]
  },
  {
   "cell_type": "code",
   "execution_count": 4,
   "metadata": {},
   "outputs": [
    {
     "data": {
      "text/html": [
       "<div>\n",
       "<style scoped>\n",
       "    .dataframe tbody tr th:only-of-type {\n",
       "        vertical-align: middle;\n",
       "    }\n",
       "\n",
       "    .dataframe tbody tr th {\n",
       "        vertical-align: top;\n",
       "    }\n",
       "\n",
       "    .dataframe thead th {\n",
       "        text-align: right;\n",
       "    }\n",
       "</style>\n",
       "<table border=\"1\" class=\"dataframe\">\n",
       "  <thead>\n",
       "    <tr style=\"text-align: right;\">\n",
       "      <th></th>\n",
       "      <th>activity_year</th>\n",
       "      <th>lei</th>\n",
       "      <th>derived_msa-md</th>\n",
       "      <th>state_code</th>\n",
       "      <th>county_code</th>\n",
       "      <th>census_tract</th>\n",
       "      <th>conforming_loan_limit</th>\n",
       "      <th>derived_loan_product_type</th>\n",
       "      <th>derived_dwelling_category</th>\n",
       "      <th>derived_ethnicity</th>\n",
       "      <th>derived_race</th>\n",
       "      <th>derived_sex</th>\n",
       "      <th>action_taken</th>\n",
       "      <th>purchaser_type</th>\n",
       "      <th>preapproval</th>\n",
       "      <th>loan_type</th>\n",
       "      <th>loan_purpose</th>\n",
       "      <th>lien_status</th>\n",
       "      <th>reverse_mortgage</th>\n",
       "      <th>open-end_line_of_credit</th>\n",
       "      <th>business_or_commercial_purpose</th>\n",
       "      <th>loan_amount</th>\n",
       "      <th>loan_to_value_ratio</th>\n",
       "      <th>interest_rate</th>\n",
       "      <th>rate_spread</th>\n",
       "      <th>hoepa_status</th>\n",
       "      <th>total_loan_costs</th>\n",
       "      <th>total_points_and_fees</th>\n",
       "      <th>origination_charges</th>\n",
       "      <th>discount_points</th>\n",
       "      <th>lender_credits</th>\n",
       "      <th>loan_term</th>\n",
       "      <th>prepayment_penalty_term</th>\n",
       "      <th>intro_rate_period</th>\n",
       "      <th>negative_amortization</th>\n",
       "      <th>interest_only_payment</th>\n",
       "      <th>balloon_payment</th>\n",
       "      <th>other_nonamortizing_features</th>\n",
       "      <th>property_value</th>\n",
       "      <th>construction_method</th>\n",
       "      <th>occupancy_type</th>\n",
       "      <th>manufactured_home_secured_property_type</th>\n",
       "      <th>manufactured_home_land_property_interest</th>\n",
       "      <th>total_units</th>\n",
       "      <th>multifamily_affordable_units</th>\n",
       "      <th>income</th>\n",
       "      <th>debt_to_income_ratio</th>\n",
       "      <th>applicant_credit_score_type</th>\n",
       "      <th>co-applicant_credit_score_type</th>\n",
       "      <th>applicant_ethnicity-1</th>\n",
       "      <th>applicant_ethnicity-2</th>\n",
       "      <th>applicant_ethnicity-3</th>\n",
       "      <th>applicant_ethnicity-4</th>\n",
       "      <th>applicant_ethnicity-5</th>\n",
       "      <th>co-applicant_ethnicity-1</th>\n",
       "      <th>co-applicant_ethnicity-2</th>\n",
       "      <th>co-applicant_ethnicity-3</th>\n",
       "      <th>co-applicant_ethnicity-4</th>\n",
       "      <th>co-applicant_ethnicity-5</th>\n",
       "      <th>applicant_ethnicity_observed</th>\n",
       "      <th>co-applicant_ethnicity_observed</th>\n",
       "      <th>applicant_race-1</th>\n",
       "      <th>applicant_race-2</th>\n",
       "      <th>applicant_race-3</th>\n",
       "      <th>applicant_race-4</th>\n",
       "      <th>applicant_race-5</th>\n",
       "      <th>co-applicant_race-1</th>\n",
       "      <th>co-applicant_race-2</th>\n",
       "      <th>co-applicant_race-3</th>\n",
       "      <th>co-applicant_race-4</th>\n",
       "      <th>co-applicant_race-5</th>\n",
       "      <th>applicant_race_observed</th>\n",
       "      <th>co-applicant_race_observed</th>\n",
       "      <th>applicant_sex</th>\n",
       "      <th>co-applicant_sex</th>\n",
       "      <th>applicant_sex_observed</th>\n",
       "      <th>co-applicant_sex_observed</th>\n",
       "      <th>applicant_age</th>\n",
       "      <th>co-applicant_age</th>\n",
       "      <th>applicant_age_above_62</th>\n",
       "      <th>co-applicant_age_above_62</th>\n",
       "      <th>submission_of_application</th>\n",
       "      <th>initially_payable_to_institution</th>\n",
       "      <th>aus-1</th>\n",
       "      <th>aus-2</th>\n",
       "      <th>aus-3</th>\n",
       "      <th>aus-4</th>\n",
       "      <th>aus-5</th>\n",
       "      <th>denial_reason-1</th>\n",
       "      <th>denial_reason-2</th>\n",
       "      <th>denial_reason-3</th>\n",
       "      <th>denial_reason-4</th>\n",
       "      <th>tract_population</th>\n",
       "      <th>tract_minority_population_percent</th>\n",
       "      <th>ffiec_msa_md_median_family_income</th>\n",
       "      <th>tract_to_msa_income_percentage</th>\n",
       "      <th>tract_owner_occupied_units</th>\n",
       "      <th>tract_one_to_four_family_homes</th>\n",
       "      <th>tract_median_age_of_housing_units</th>\n",
       "    </tr>\n",
       "  </thead>\n",
       "  <tbody>\n",
       "    <tr>\n",
       "      <th>0</th>\n",
       "      <td>2018</td>\n",
       "      <td>TR24TWEY5RVRQV65HD49</td>\n",
       "      <td>40140</td>\n",
       "      <td>CA</td>\n",
       "      <td>6071</td>\n",
       "      <td>6.071e+09</td>\n",
       "      <td>C</td>\n",
       "      <td>Conventional:Subordinate Lien</td>\n",
       "      <td>Single Family (1-4 Units):Site-Built</td>\n",
       "      <td>Hispanic or Latino</td>\n",
       "      <td>White</td>\n",
       "      <td>Male</td>\n",
       "      <td>3</td>\n",
       "      <td>0</td>\n",
       "      <td>2</td>\n",
       "      <td>1</td>\n",
       "      <td>2</td>\n",
       "      <td>2</td>\n",
       "      <td>2</td>\n",
       "      <td>1</td>\n",
       "      <td>2</td>\n",
       "      <td>25000.0</td>\n",
       "      <td>74.2</td>\n",
       "      <td>NaN</td>\n",
       "      <td>NaN</td>\n",
       "      <td>3</td>\n",
       "      <td>NaN</td>\n",
       "      <td>NaN</td>\n",
       "      <td>NaN</td>\n",
       "      <td>NaN</td>\n",
       "      <td>NaN</td>\n",
       "      <td>360</td>\n",
       "      <td>NaN</td>\n",
       "      <td>1</td>\n",
       "      <td>2</td>\n",
       "      <td>2</td>\n",
       "      <td>2</td>\n",
       "      <td>2</td>\n",
       "      <td>345000</td>\n",
       "      <td>1</td>\n",
       "      <td>1</td>\n",
       "      <td>3</td>\n",
       "      <td>5</td>\n",
       "      <td>1</td>\n",
       "      <td>NaN</td>\n",
       "      <td>71.0</td>\n",
       "      <td>44</td>\n",
       "      <td>7</td>\n",
       "      <td>10</td>\n",
       "      <td>11.0</td>\n",
       "      <td>NaN</td>\n",
       "      <td>NaN</td>\n",
       "      <td>NaN</td>\n",
       "      <td>NaN</td>\n",
       "      <td>5.0</td>\n",
       "      <td>NaN</td>\n",
       "      <td>NaN</td>\n",
       "      <td>NaN</td>\n",
       "      <td>NaN</td>\n",
       "      <td>2</td>\n",
       "      <td>4</td>\n",
       "      <td>5.0</td>\n",
       "      <td>NaN</td>\n",
       "      <td>NaN</td>\n",
       "      <td>NaN</td>\n",
       "      <td>NaN</td>\n",
       "      <td>8.0</td>\n",
       "      <td>NaN</td>\n",
       "      <td>NaN</td>\n",
       "      <td>NaN</td>\n",
       "      <td>NaN</td>\n",
       "      <td>2</td>\n",
       "      <td>4</td>\n",
       "      <td>1</td>\n",
       "      <td>5</td>\n",
       "      <td>2</td>\n",
       "      <td>4</td>\n",
       "      <td>25-34</td>\n",
       "      <td>9999</td>\n",
       "      <td>No</td>\n",
       "      <td>NaN</td>\n",
       "      <td>1</td>\n",
       "      <td>1</td>\n",
       "      <td>6</td>\n",
       "      <td>NaN</td>\n",
       "      <td>NaN</td>\n",
       "      <td>NaN</td>\n",
       "      <td>NaN</td>\n",
       "      <td>9</td>\n",
       "      <td>NaN</td>\n",
       "      <td>NaN</td>\n",
       "      <td>NaN</td>\n",
       "      <td>7800</td>\n",
       "      <td>70.21</td>\n",
       "      <td>65800</td>\n",
       "      <td>114</td>\n",
       "      <td>1433</td>\n",
       "      <td>2096</td>\n",
       "      <td>27</td>\n",
       "    </tr>\n",
       "    <tr>\n",
       "      <th>1</th>\n",
       "      <td>2018</td>\n",
       "      <td>TR24TWEY5RVRQV65HD49</td>\n",
       "      <td>44700</td>\n",
       "      <td>CA</td>\n",
       "      <td>6077</td>\n",
       "      <td>6.077e+09</td>\n",
       "      <td>C</td>\n",
       "      <td>Conventional:Subordinate Lien</td>\n",
       "      <td>Single Family (1-4 Units):Site-Built</td>\n",
       "      <td>Not Hispanic or Latino</td>\n",
       "      <td>Black or African American</td>\n",
       "      <td>Female</td>\n",
       "      <td>3</td>\n",
       "      <td>0</td>\n",
       "      <td>2</td>\n",
       "      <td>1</td>\n",
       "      <td>2</td>\n",
       "      <td>2</td>\n",
       "      <td>2</td>\n",
       "      <td>1</td>\n",
       "      <td>2</td>\n",
       "      <td>35000.0</td>\n",
       "      <td>97.82</td>\n",
       "      <td>NaN</td>\n",
       "      <td>NaN</td>\n",
       "      <td>3</td>\n",
       "      <td>NaN</td>\n",
       "      <td>NaN</td>\n",
       "      <td>NaN</td>\n",
       "      <td>NaN</td>\n",
       "      <td>NaN</td>\n",
       "      <td>360</td>\n",
       "      <td>NaN</td>\n",
       "      <td>1</td>\n",
       "      <td>2</td>\n",
       "      <td>2</td>\n",
       "      <td>2</td>\n",
       "      <td>2</td>\n",
       "      <td>375000</td>\n",
       "      <td>1</td>\n",
       "      <td>1</td>\n",
       "      <td>3</td>\n",
       "      <td>5</td>\n",
       "      <td>1</td>\n",
       "      <td>NaN</td>\n",
       "      <td>102.0</td>\n",
       "      <td>&gt;60%</td>\n",
       "      <td>7</td>\n",
       "      <td>10</td>\n",
       "      <td>2.0</td>\n",
       "      <td>NaN</td>\n",
       "      <td>NaN</td>\n",
       "      <td>NaN</td>\n",
       "      <td>NaN</td>\n",
       "      <td>5.0</td>\n",
       "      <td>NaN</td>\n",
       "      <td>NaN</td>\n",
       "      <td>NaN</td>\n",
       "      <td>NaN</td>\n",
       "      <td>2</td>\n",
       "      <td>4</td>\n",
       "      <td>3.0</td>\n",
       "      <td>NaN</td>\n",
       "      <td>NaN</td>\n",
       "      <td>NaN</td>\n",
       "      <td>NaN</td>\n",
       "      <td>8.0</td>\n",
       "      <td>NaN</td>\n",
       "      <td>NaN</td>\n",
       "      <td>NaN</td>\n",
       "      <td>NaN</td>\n",
       "      <td>2</td>\n",
       "      <td>4</td>\n",
       "      <td>2</td>\n",
       "      <td>5</td>\n",
       "      <td>2</td>\n",
       "      <td>4</td>\n",
       "      <td>35-44</td>\n",
       "      <td>9999</td>\n",
       "      <td>No</td>\n",
       "      <td>NaN</td>\n",
       "      <td>1</td>\n",
       "      <td>1</td>\n",
       "      <td>6</td>\n",
       "      <td>NaN</td>\n",
       "      <td>NaN</td>\n",
       "      <td>NaN</td>\n",
       "      <td>NaN</td>\n",
       "      <td>9</td>\n",
       "      <td>3.0</td>\n",
       "      <td>NaN</td>\n",
       "      <td>NaN</td>\n",
       "      <td>8228</td>\n",
       "      <td>80.40</td>\n",
       "      <td>63700</td>\n",
       "      <td>61</td>\n",
       "      <td>1249</td>\n",
       "      <td>2574</td>\n",
       "      <td>50</td>\n",
       "    </tr>\n",
       "    <tr>\n",
       "      <th>2</th>\n",
       "      <td>2018</td>\n",
       "      <td>TR24TWEY5RVRQV65HD49</td>\n",
       "      <td>31460</td>\n",
       "      <td>CA</td>\n",
       "      <td>6039</td>\n",
       "      <td>6.039e+09</td>\n",
       "      <td>C</td>\n",
       "      <td>Conventional:Subordinate Lien</td>\n",
       "      <td>Single Family (1-4 Units):Site-Built</td>\n",
       "      <td>Ethnicity Not Available</td>\n",
       "      <td>Race Not Available</td>\n",
       "      <td>Sex Not Available</td>\n",
       "      <td>3</td>\n",
       "      <td>0</td>\n",
       "      <td>2</td>\n",
       "      <td>1</td>\n",
       "      <td>4</td>\n",
       "      <td>2</td>\n",
       "      <td>2</td>\n",
       "      <td>1</td>\n",
       "      <td>2</td>\n",
       "      <td>35000.0</td>\n",
       "      <td>74.51</td>\n",
       "      <td>NaN</td>\n",
       "      <td>NaN</td>\n",
       "      <td>3</td>\n",
       "      <td>NaN</td>\n",
       "      <td>NaN</td>\n",
       "      <td>NaN</td>\n",
       "      <td>NaN</td>\n",
       "      <td>NaN</td>\n",
       "      <td>360</td>\n",
       "      <td>NaN</td>\n",
       "      <td>1</td>\n",
       "      <td>2</td>\n",
       "      <td>2</td>\n",
       "      <td>2</td>\n",
       "      <td>2</td>\n",
       "      <td>135000</td>\n",
       "      <td>1</td>\n",
       "      <td>1</td>\n",
       "      <td>3</td>\n",
       "      <td>5</td>\n",
       "      <td>1</td>\n",
       "      <td>NaN</td>\n",
       "      <td>124.0</td>\n",
       "      <td>&lt;20%</td>\n",
       "      <td>7</td>\n",
       "      <td>7</td>\n",
       "      <td>3.0</td>\n",
       "      <td>NaN</td>\n",
       "      <td>NaN</td>\n",
       "      <td>NaN</td>\n",
       "      <td>NaN</td>\n",
       "      <td>1.0</td>\n",
       "      <td>NaN</td>\n",
       "      <td>NaN</td>\n",
       "      <td>NaN</td>\n",
       "      <td>NaN</td>\n",
       "      <td>2</td>\n",
       "      <td>2</td>\n",
       "      <td>6.0</td>\n",
       "      <td>NaN</td>\n",
       "      <td>NaN</td>\n",
       "      <td>NaN</td>\n",
       "      <td>NaN</td>\n",
       "      <td>6.0</td>\n",
       "      <td>NaN</td>\n",
       "      <td>NaN</td>\n",
       "      <td>NaN</td>\n",
       "      <td>NaN</td>\n",
       "      <td>2</td>\n",
       "      <td>2</td>\n",
       "      <td>3</td>\n",
       "      <td>1</td>\n",
       "      <td>2</td>\n",
       "      <td>2</td>\n",
       "      <td>35-44</td>\n",
       "      <td>25-34</td>\n",
       "      <td>No</td>\n",
       "      <td>No</td>\n",
       "      <td>1</td>\n",
       "      <td>1</td>\n",
       "      <td>6</td>\n",
       "      <td>NaN</td>\n",
       "      <td>NaN</td>\n",
       "      <td>NaN</td>\n",
       "      <td>NaN</td>\n",
       "      <td>9</td>\n",
       "      <td>3.0</td>\n",
       "      <td>NaN</td>\n",
       "      <td>NaN</td>\n",
       "      <td>5856</td>\n",
       "      <td>95.59</td>\n",
       "      <td>55200</td>\n",
       "      <td>53</td>\n",
       "      <td>358</td>\n",
       "      <td>1101</td>\n",
       "      <td>33</td>\n",
       "    </tr>\n",
       "    <tr>\n",
       "      <th>3</th>\n",
       "      <td>2018</td>\n",
       "      <td>TR24TWEY5RVRQV65HD49</td>\n",
       "      <td>40900</td>\n",
       "      <td>CA</td>\n",
       "      <td>6067</td>\n",
       "      <td>6.06701e+09</td>\n",
       "      <td>C</td>\n",
       "      <td>Conventional:Subordinate Lien</td>\n",
       "      <td>Single Family (1-4 Units):Site-Built</td>\n",
       "      <td>Ethnicity Not Available</td>\n",
       "      <td>Race Not Available</td>\n",
       "      <td>Sex Not Available</td>\n",
       "      <td>3</td>\n",
       "      <td>0</td>\n",
       "      <td>2</td>\n",
       "      <td>1</td>\n",
       "      <td>4</td>\n",
       "      <td>2</td>\n",
       "      <td>2</td>\n",
       "      <td>1</td>\n",
       "      <td>2</td>\n",
       "      <td>35000.0</td>\n",
       "      <td>79.34</td>\n",
       "      <td>NaN</td>\n",
       "      <td>NaN</td>\n",
       "      <td>3</td>\n",
       "      <td>NaN</td>\n",
       "      <td>NaN</td>\n",
       "      <td>NaN</td>\n",
       "      <td>NaN</td>\n",
       "      <td>NaN</td>\n",
       "      <td>360</td>\n",
       "      <td>NaN</td>\n",
       "      <td>1</td>\n",
       "      <td>2</td>\n",
       "      <td>2</td>\n",
       "      <td>2</td>\n",
       "      <td>2</td>\n",
       "      <td>325000</td>\n",
       "      <td>1</td>\n",
       "      <td>1</td>\n",
       "      <td>3</td>\n",
       "      <td>5</td>\n",
       "      <td>1</td>\n",
       "      <td>NaN</td>\n",
       "      <td>132.0</td>\n",
       "      <td>20%-&lt;30%</td>\n",
       "      <td>7</td>\n",
       "      <td>10</td>\n",
       "      <td>3.0</td>\n",
       "      <td>NaN</td>\n",
       "      <td>NaN</td>\n",
       "      <td>NaN</td>\n",
       "      <td>NaN</td>\n",
       "      <td>5.0</td>\n",
       "      <td>NaN</td>\n",
       "      <td>NaN</td>\n",
       "      <td>NaN</td>\n",
       "      <td>NaN</td>\n",
       "      <td>2</td>\n",
       "      <td>4</td>\n",
       "      <td>6.0</td>\n",
       "      <td>NaN</td>\n",
       "      <td>NaN</td>\n",
       "      <td>NaN</td>\n",
       "      <td>NaN</td>\n",
       "      <td>8.0</td>\n",
       "      <td>NaN</td>\n",
       "      <td>NaN</td>\n",
       "      <td>NaN</td>\n",
       "      <td>NaN</td>\n",
       "      <td>2</td>\n",
       "      <td>4</td>\n",
       "      <td>3</td>\n",
       "      <td>5</td>\n",
       "      <td>2</td>\n",
       "      <td>4</td>\n",
       "      <td>25-34</td>\n",
       "      <td>9999</td>\n",
       "      <td>No</td>\n",
       "      <td>NaN</td>\n",
       "      <td>1</td>\n",
       "      <td>1</td>\n",
       "      <td>6</td>\n",
       "      <td>NaN</td>\n",
       "      <td>NaN</td>\n",
       "      <td>NaN</td>\n",
       "      <td>NaN</td>\n",
       "      <td>9</td>\n",
       "      <td>NaN</td>\n",
       "      <td>NaN</td>\n",
       "      <td>NaN</td>\n",
       "      <td>4905</td>\n",
       "      <td>65.91</td>\n",
       "      <td>80400</td>\n",
       "      <td>97</td>\n",
       "      <td>1042</td>\n",
       "      <td>1432</td>\n",
       "      <td>0</td>\n",
       "    </tr>\n",
       "    <tr>\n",
       "      <th>4</th>\n",
       "      <td>2018</td>\n",
       "      <td>TR24TWEY5RVRQV65HD49</td>\n",
       "      <td>40900</td>\n",
       "      <td>CA</td>\n",
       "      <td>6067</td>\n",
       "      <td>6.06701e+09</td>\n",
       "      <td>C</td>\n",
       "      <td>Conventional:Subordinate Lien</td>\n",
       "      <td>Single Family (1-4 Units):Site-Built</td>\n",
       "      <td>Not Hispanic or Latino</td>\n",
       "      <td>Black or African American</td>\n",
       "      <td>Female</td>\n",
       "      <td>3</td>\n",
       "      <td>0</td>\n",
       "      <td>2</td>\n",
       "      <td>1</td>\n",
       "      <td>2</td>\n",
       "      <td>2</td>\n",
       "      <td>2</td>\n",
       "      <td>1</td>\n",
       "      <td>2</td>\n",
       "      <td>55000.0</td>\n",
       "      <td>71.33</td>\n",
       "      <td>NaN</td>\n",
       "      <td>NaN</td>\n",
       "      <td>3</td>\n",
       "      <td>NaN</td>\n",
       "      <td>NaN</td>\n",
       "      <td>NaN</td>\n",
       "      <td>NaN</td>\n",
       "      <td>NaN</td>\n",
       "      <td>360</td>\n",
       "      <td>NaN</td>\n",
       "      <td>1</td>\n",
       "      <td>2</td>\n",
       "      <td>2</td>\n",
       "      <td>2</td>\n",
       "      <td>2</td>\n",
       "      <td>605000</td>\n",
       "      <td>1</td>\n",
       "      <td>1</td>\n",
       "      <td>3</td>\n",
       "      <td>5</td>\n",
       "      <td>1</td>\n",
       "      <td>NaN</td>\n",
       "      <td>145.0</td>\n",
       "      <td>20%-&lt;30%</td>\n",
       "      <td>7</td>\n",
       "      <td>10</td>\n",
       "      <td>2.0</td>\n",
       "      <td>NaN</td>\n",
       "      <td>NaN</td>\n",
       "      <td>NaN</td>\n",
       "      <td>NaN</td>\n",
       "      <td>5.0</td>\n",
       "      <td>NaN</td>\n",
       "      <td>NaN</td>\n",
       "      <td>NaN</td>\n",
       "      <td>NaN</td>\n",
       "      <td>2</td>\n",
       "      <td>4</td>\n",
       "      <td>3.0</td>\n",
       "      <td>NaN</td>\n",
       "      <td>NaN</td>\n",
       "      <td>NaN</td>\n",
       "      <td>NaN</td>\n",
       "      <td>8.0</td>\n",
       "      <td>NaN</td>\n",
       "      <td>NaN</td>\n",
       "      <td>NaN</td>\n",
       "      <td>NaN</td>\n",
       "      <td>2</td>\n",
       "      <td>4</td>\n",
       "      <td>2</td>\n",
       "      <td>5</td>\n",
       "      <td>2</td>\n",
       "      <td>4</td>\n",
       "      <td>45-54</td>\n",
       "      <td>9999</td>\n",
       "      <td>No</td>\n",
       "      <td>NaN</td>\n",
       "      <td>1</td>\n",
       "      <td>1</td>\n",
       "      <td>6</td>\n",
       "      <td>NaN</td>\n",
       "      <td>NaN</td>\n",
       "      <td>NaN</td>\n",
       "      <td>NaN</td>\n",
       "      <td>9</td>\n",
       "      <td>NaN</td>\n",
       "      <td>NaN</td>\n",
       "      <td>NaN</td>\n",
       "      <td>5080</td>\n",
       "      <td>53.62</td>\n",
       "      <td>80400</td>\n",
       "      <td>161</td>\n",
       "      <td>1343</td>\n",
       "      <td>1481</td>\n",
       "      <td>13</td>\n",
       "    </tr>\n",
       "  </tbody>\n",
       "</table>\n",
       "</div>"
      ],
      "text/plain": [
       "   activity_year                   lei  derived_msa-md state_code county_code  \\\n",
       "0           2018  TR24TWEY5RVRQV65HD49           40140         CA        6071   \n",
       "1           2018  TR24TWEY5RVRQV65HD49           44700         CA        6077   \n",
       "2           2018  TR24TWEY5RVRQV65HD49           31460         CA        6039   \n",
       "3           2018  TR24TWEY5RVRQV65HD49           40900         CA        6067   \n",
       "4           2018  TR24TWEY5RVRQV65HD49           40900         CA        6067   \n",
       "\n",
       "  census_tract conforming_loan_limit      derived_loan_product_type  \\\n",
       "0    6.071e+09                     C  Conventional:Subordinate Lien   \n",
       "1    6.077e+09                     C  Conventional:Subordinate Lien   \n",
       "2    6.039e+09                     C  Conventional:Subordinate Lien   \n",
       "3  6.06701e+09                     C  Conventional:Subordinate Lien   \n",
       "4  6.06701e+09                     C  Conventional:Subordinate Lien   \n",
       "\n",
       "              derived_dwelling_category        derived_ethnicity  \\\n",
       "0  Single Family (1-4 Units):Site-Built       Hispanic or Latino   \n",
       "1  Single Family (1-4 Units):Site-Built   Not Hispanic or Latino   \n",
       "2  Single Family (1-4 Units):Site-Built  Ethnicity Not Available   \n",
       "3  Single Family (1-4 Units):Site-Built  Ethnicity Not Available   \n",
       "4  Single Family (1-4 Units):Site-Built   Not Hispanic or Latino   \n",
       "\n",
       "                derived_race        derived_sex  action_taken  purchaser_type  \\\n",
       "0                      White               Male             3               0   \n",
       "1  Black or African American             Female             3               0   \n",
       "2         Race Not Available  Sex Not Available             3               0   \n",
       "3         Race Not Available  Sex Not Available             3               0   \n",
       "4  Black or African American             Female             3               0   \n",
       "\n",
       "   preapproval  loan_type  loan_purpose  lien_status  reverse_mortgage  \\\n",
       "0            2          1             2            2                 2   \n",
       "1            2          1             2            2                 2   \n",
       "2            2          1             4            2                 2   \n",
       "3            2          1             4            2                 2   \n",
       "4            2          1             2            2                 2   \n",
       "\n",
       "   open-end_line_of_credit  business_or_commercial_purpose  loan_amount  \\\n",
       "0                        1                               2      25000.0   \n",
       "1                        1                               2      35000.0   \n",
       "2                        1                               2      35000.0   \n",
       "3                        1                               2      35000.0   \n",
       "4                        1                               2      55000.0   \n",
       "\n",
       "  loan_to_value_ratio interest_rate rate_spread  hoepa_status  \\\n",
       "0                74.2           NaN         NaN             3   \n",
       "1               97.82           NaN         NaN             3   \n",
       "2               74.51           NaN         NaN             3   \n",
       "3               79.34           NaN         NaN             3   \n",
       "4               71.33           NaN         NaN             3   \n",
       "\n",
       "  total_loan_costs total_points_and_fees origination_charges discount_points  \\\n",
       "0              NaN                   NaN                 NaN             NaN   \n",
       "1              NaN                   NaN                 NaN             NaN   \n",
       "2              NaN                   NaN                 NaN             NaN   \n",
       "3              NaN                   NaN                 NaN             NaN   \n",
       "4              NaN                   NaN                 NaN             NaN   \n",
       "\n",
       "  lender_credits loan_term prepayment_penalty_term intro_rate_period  \\\n",
       "0            NaN       360                     NaN                 1   \n",
       "1            NaN       360                     NaN                 1   \n",
       "2            NaN       360                     NaN                 1   \n",
       "3            NaN       360                     NaN                 1   \n",
       "4            NaN       360                     NaN                 1   \n",
       "\n",
       "   negative_amortization  interest_only_payment  balloon_payment  \\\n",
       "0                      2                      2                2   \n",
       "1                      2                      2                2   \n",
       "2                      2                      2                2   \n",
       "3                      2                      2                2   \n",
       "4                      2                      2                2   \n",
       "\n",
       "   other_nonamortizing_features property_value  construction_method  \\\n",
       "0                             2         345000                    1   \n",
       "1                             2         375000                    1   \n",
       "2                             2         135000                    1   \n",
       "3                             2         325000                    1   \n",
       "4                             2         605000                    1   \n",
       "\n",
       "   occupancy_type  manufactured_home_secured_property_type  \\\n",
       "0               1                                        3   \n",
       "1               1                                        3   \n",
       "2               1                                        3   \n",
       "3               1                                        3   \n",
       "4               1                                        3   \n",
       "\n",
       "   manufactured_home_land_property_interest total_units  \\\n",
       "0                                         5           1   \n",
       "1                                         5           1   \n",
       "2                                         5           1   \n",
       "3                                         5           1   \n",
       "4                                         5           1   \n",
       "\n",
       "  multifamily_affordable_units  income debt_to_income_ratio  \\\n",
       "0                          NaN    71.0                   44   \n",
       "1                          NaN   102.0                 >60%   \n",
       "2                          NaN   124.0                 <20%   \n",
       "3                          NaN   132.0             20%-<30%   \n",
       "4                          NaN   145.0             20%-<30%   \n",
       "\n",
       "   applicant_credit_score_type  co-applicant_credit_score_type  \\\n",
       "0                            7                              10   \n",
       "1                            7                              10   \n",
       "2                            7                               7   \n",
       "3                            7                              10   \n",
       "4                            7                              10   \n",
       "\n",
       "   applicant_ethnicity-1  applicant_ethnicity-2  applicant_ethnicity-3  \\\n",
       "0                   11.0                    NaN                    NaN   \n",
       "1                    2.0                    NaN                    NaN   \n",
       "2                    3.0                    NaN                    NaN   \n",
       "3                    3.0                    NaN                    NaN   \n",
       "4                    2.0                    NaN                    NaN   \n",
       "\n",
       "   applicant_ethnicity-4  applicant_ethnicity-5  co-applicant_ethnicity-1  \\\n",
       "0                    NaN                    NaN                       5.0   \n",
       "1                    NaN                    NaN                       5.0   \n",
       "2                    NaN                    NaN                       1.0   \n",
       "3                    NaN                    NaN                       5.0   \n",
       "4                    NaN                    NaN                       5.0   \n",
       "\n",
       "   co-applicant_ethnicity-2  co-applicant_ethnicity-3  \\\n",
       "0                       NaN                       NaN   \n",
       "1                       NaN                       NaN   \n",
       "2                       NaN                       NaN   \n",
       "3                       NaN                       NaN   \n",
       "4                       NaN                       NaN   \n",
       "\n",
       "   co-applicant_ethnicity-4  co-applicant_ethnicity-5  \\\n",
       "0                       NaN                       NaN   \n",
       "1                       NaN                       NaN   \n",
       "2                       NaN                       NaN   \n",
       "3                       NaN                       NaN   \n",
       "4                       NaN                       NaN   \n",
       "\n",
       "   applicant_ethnicity_observed  co-applicant_ethnicity_observed  \\\n",
       "0                             2                                4   \n",
       "1                             2                                4   \n",
       "2                             2                                2   \n",
       "3                             2                                4   \n",
       "4                             2                                4   \n",
       "\n",
       "   applicant_race-1  applicant_race-2  applicant_race-3  applicant_race-4  \\\n",
       "0               5.0               NaN               NaN               NaN   \n",
       "1               3.0               NaN               NaN               NaN   \n",
       "2               6.0               NaN               NaN               NaN   \n",
       "3               6.0               NaN               NaN               NaN   \n",
       "4               3.0               NaN               NaN               NaN   \n",
       "\n",
       "   applicant_race-5  co-applicant_race-1  co-applicant_race-2  \\\n",
       "0               NaN                  8.0                  NaN   \n",
       "1               NaN                  8.0                  NaN   \n",
       "2               NaN                  6.0                  NaN   \n",
       "3               NaN                  8.0                  NaN   \n",
       "4               NaN                  8.0                  NaN   \n",
       "\n",
       "   co-applicant_race-3  co-applicant_race-4  co-applicant_race-5  \\\n",
       "0                  NaN                  NaN                  NaN   \n",
       "1                  NaN                  NaN                  NaN   \n",
       "2                  NaN                  NaN                  NaN   \n",
       "3                  NaN                  NaN                  NaN   \n",
       "4                  NaN                  NaN                  NaN   \n",
       "\n",
       "   applicant_race_observed  co-applicant_race_observed  applicant_sex  \\\n",
       "0                        2                           4              1   \n",
       "1                        2                           4              2   \n",
       "2                        2                           2              3   \n",
       "3                        2                           4              3   \n",
       "4                        2                           4              2   \n",
       "\n",
       "   co-applicant_sex  applicant_sex_observed  co-applicant_sex_observed  \\\n",
       "0                 5                       2                          4   \n",
       "1                 5                       2                          4   \n",
       "2                 1                       2                          2   \n",
       "3                 5                       2                          4   \n",
       "4                 5                       2                          4   \n",
       "\n",
       "  applicant_age co-applicant_age applicant_age_above_62  \\\n",
       "0         25-34             9999                     No   \n",
       "1         35-44             9999                     No   \n",
       "2         35-44            25-34                     No   \n",
       "3         25-34             9999                     No   \n",
       "4         45-54             9999                     No   \n",
       "\n",
       "  co-applicant_age_above_62  submission_of_application  \\\n",
       "0                       NaN                          1   \n",
       "1                       NaN                          1   \n",
       "2                        No                          1   \n",
       "3                       NaN                          1   \n",
       "4                       NaN                          1   \n",
       "\n",
       "   initially_payable_to_institution  aus-1  aus-2  aus-3  aus-4  aus-5  \\\n",
       "0                                 1      6    NaN    NaN    NaN    NaN   \n",
       "1                                 1      6    NaN    NaN    NaN    NaN   \n",
       "2                                 1      6    NaN    NaN    NaN    NaN   \n",
       "3                                 1      6    NaN    NaN    NaN    NaN   \n",
       "4                                 1      6    NaN    NaN    NaN    NaN   \n",
       "\n",
       "   denial_reason-1  denial_reason-2  denial_reason-3  denial_reason-4  \\\n",
       "0                9              NaN              NaN              NaN   \n",
       "1                9              3.0              NaN              NaN   \n",
       "2                9              3.0              NaN              NaN   \n",
       "3                9              NaN              NaN              NaN   \n",
       "4                9              NaN              NaN              NaN   \n",
       "\n",
       "   tract_population  tract_minority_population_percent  \\\n",
       "0              7800                              70.21   \n",
       "1              8228                              80.40   \n",
       "2              5856                              95.59   \n",
       "3              4905                              65.91   \n",
       "4              5080                              53.62   \n",
       "\n",
       "   ffiec_msa_md_median_family_income  tract_to_msa_income_percentage  \\\n",
       "0                              65800                             114   \n",
       "1                              63700                              61   \n",
       "2                              55200                              53   \n",
       "3                              80400                              97   \n",
       "4                              80400                             161   \n",
       "\n",
       "   tract_owner_occupied_units  tract_one_to_four_family_homes  \\\n",
       "0                        1433                            2096   \n",
       "1                        1249                            2574   \n",
       "2                         358                            1101   \n",
       "3                        1042                            1432   \n",
       "4                        1343                            1481   \n",
       "\n",
       "   tract_median_age_of_housing_units  \n",
       "0                                 27  \n",
       "1                                 50  \n",
       "2                                 33  \n",
       "3                                  0  \n",
       "4                                 13  "
      ]
     },
     "execution_count": 4,
     "metadata": {},
     "output_type": "execute_result"
    }
   ],
   "source": [
    "df.head()"
   ]
  },
  {
   "cell_type": "code",
   "execution_count": 5,
   "metadata": {},
   "outputs": [
    {
     "data": {
      "text/plain": [
       "12723"
      ]
     },
     "execution_count": 5,
     "metadata": {},
     "output_type": "execute_result"
    }
   ],
   "source": [
    "len(df[df.debt_to_income_ratio=='Exempt'])"
   ]
  },
  {
   "cell_type": "code",
   "execution_count": 6,
   "metadata": {},
   "outputs": [],
   "source": [
    "df.drop(['derived_loan_product_type','purchaser_type','derived_msa-md','multifamily_affordable_units', 'intro_rate_period', 'prepayment_penalty_term','loan_term',\n",
    "         'lender_credits', 'discount_points','total_points_and_fees','total_loan_costs','activity_year','lei', 'state_code', 'census_tract', 'county_code', 'other_nonamortizing_features','derived_ethnicity', 'derived_race','derived_sex', \n",
    "         'applicant_ethnicity-1','applicant_ethnicity-2','applicant_ethnicity-3','applicant_ethnicity-4','applicant_ethnicity-5',\n",
    "        'co-applicant_ethnicity-1','co-applicant_ethnicity-2','co-applicant_ethnicity-3','co-applicant_ethnicity-4','co-applicant_ethnicity-5',\n",
    "        'applicant_ethnicity_observed', 'co-applicant_ethnicity_observed', 'applicant_race-1','applicant_race-2','applicant_race-3',\n",
    "        'applicant_race-4','applicant_race-5','co-applicant_race-1','co-applicant_race-2','co-applicant_race-3','co-applicant_race-4',\n",
    "        'co-applicant_race-5','applicant_race_observed','co-applicant_race_observed','applicant_sex', 'co-applicant_sex',\n",
    "        'applicant_sex_observed', 'co-applicant_sex_observed', 'applicant_age', 'co-applicant_age','applicant_age_above_62',\n",
    "        'co-applicant_age_above_62', 'submission_of_application', 'initially_payable_to_institution', 'aus-1','aus-2','aus-3',\n",
    "        'aus-4','aus-5','denial_reason-1','denial_reason-2','denial_reason-3','denial_reason-4',],axis=1,inplace=True)\n",
    "\n"
   ]
  },
  {
   "cell_type": "code",
   "execution_count": 7,
   "metadata": {},
   "outputs": [],
   "source": [
    "df.drop(df[df.reverse_mortgage==1].index, axis=0, inplace=True)\n",
    "df.drop(df[df.reverse_mortgage==1111].index, axis=0, inplace=True)\n",
    "df.drop(df[df.business_or_commercial_purpose==1].index, axis=0, inplace=True)\n",
    "df.drop(df[df.business_or_commercial_purpose==1111].index, axis=0, inplace=True)\n",
    "df.drop(df[df.manufactured_home_land_property_interest==2].index, axis=0, inplace=True)\n",
    "df.drop(df[df.manufactured_home_land_property_interest==4].index, axis=0, inplace=True)\n",
    "df.drop(df[df.debt_to_income_ratio=='Exempt'].index, axis=0, inplace=True)"
   ]
  },
  {
   "cell_type": "code",
   "execution_count": null,
   "metadata": {},
   "outputs": [],
   "source": []
  },
  {
   "cell_type": "code",
   "execution_count": 8,
   "metadata": {},
   "outputs": [],
   "source": [
    "df.drop(['reverse_mortgage','business_or_commercial_purpose','manufactured_home_land_property_interest',\n",
    "         'open-end_line_of_credit','derived_dwelling_category','manufactured_home_secured_property_type',\n",
    "       'manufactured_home_land_property_interest','co-applicant_credit_score_type','applicant_credit_score_type'],axis=1,inplace=True)"
   ]
  },
  {
   "cell_type": "code",
   "execution_count": null,
   "metadata": {},
   "outputs": [],
   "source": []
  },
  {
   "cell_type": "code",
   "execution_count": 9,
   "metadata": {},
   "outputs": [],
   "source": [
    "df.drop(df[df.loan_type==3].index, axis=0, inplace=True)\n",
    "df.drop(df[df.loan_type==4].index, axis=0, inplace=True)"
   ]
  },
  {
   "cell_type": "code",
   "execution_count": 10,
   "metadata": {},
   "outputs": [
    {
     "name": "stdout",
     "output_type": "stream",
     "text": [
      "127 conforming_loan_limit <class 'str'>\n",
      "0 action_taken <class 'numpy.int64'>\n",
      "0 preapproval <class 'numpy.int64'>\n",
      "0 loan_type <class 'numpy.int64'>\n",
      "0 loan_purpose <class 'numpy.int64'>\n",
      "0 lien_status <class 'numpy.int64'>\n",
      "0 loan_amount <class 'numpy.float64'>\n",
      "476042 loan_to_value_ratio <class 'str'>\n",
      "547707 interest_rate <class 'float'>\n",
      "767151 rate_spread <class 'float'>\n",
      "0 hoepa_status <class 'numpy.int64'>\n",
      "774190 origination_charges <class 'float'>\n",
      "0 negative_amortization <class 'numpy.int64'>\n",
      "0 interest_only_payment <class 'numpy.int64'>\n",
      "0 balloon_payment <class 'numpy.int64'>\n",
      "285167 property_value <class 'str'>\n",
      "0 construction_method <class 'numpy.int64'>\n",
      "0 occupancy_type <class 'numpy.int64'>\n",
      "0 total_units <class 'str'>\n",
      "124537 income <class 'numpy.float64'>\n",
      "470866 debt_to_income_ratio <class 'str'>\n",
      "0 tract_population <class 'numpy.int64'>\n",
      "0 tract_minority_population_percent <class 'numpy.float64'>\n",
      "0 ffiec_msa_md_median_family_income <class 'numpy.int64'>\n",
      "0 tract_to_msa_income_percentage <class 'numpy.int64'>\n",
      "0 tract_owner_occupied_units <class 'numpy.int64'>\n",
      "0 tract_one_to_four_family_homes <class 'numpy.int64'>\n",
      "0 tract_median_age_of_housing_units <class 'numpy.int64'>\n"
     ]
    }
   ],
   "source": [
    "for i in df.columns:\n",
    "    print(df[i].isna().sum(), i, type(df[i][0]))"
   ]
  },
  {
   "cell_type": "code",
   "execution_count": 11,
   "metadata": {},
   "outputs": [],
   "source": [
    "df.drop(['loan_to_value_ratio', 'interest_rate', 'rate_spread', 'origination_charges', 'property_value'],axis=1, inplace=True)"
   ]
  },
  {
   "cell_type": "code",
   "execution_count": null,
   "metadata": {},
   "outputs": [],
   "source": []
  },
  {
   "cell_type": "code",
   "execution_count": 12,
   "metadata": {},
   "outputs": [
    {
     "name": "stdout",
     "output_type": "stream",
     "text": [
      "No, list is not subset of other.\n"
     ]
    }
   ],
   "source": [
    "income_na_index = df[df.income.isna()==True].index.tolist()\n",
    "debt_to_income_ratio_na_index = df[df.debt_to_income_ratio.isna()==True].index.tolist()\n",
    "\n",
    "# using all() to  \n",
    "# check subset of list  \n",
    "flag = 0\n",
    "if(all(x in debt_to_income_ratio_na_index for x in income_na_index)): \n",
    "    flag = 1\n",
    "      \n",
    "# printing result \n",
    "if (flag) : \n",
    "    print (\"Yes, list is subset of other.\") \n",
    "else : \n",
    "    print (\"No, list is not subset of other.\") "
   ]
  },
  {
   "cell_type": "code",
   "execution_count": 13,
   "metadata": {},
   "outputs": [
    {
     "data": {
      "text/plain": [
       "1010038"
      ]
     },
     "execution_count": 13,
     "metadata": {},
     "output_type": "execute_result"
    }
   ],
   "source": [
    "df = df.drop(df[df.debt_to_income_ratio.isna()==True].index)\n",
    "df = df.drop(df[df.income.isna()==True].index)\n",
    "df = df.drop(df[df.conforming_loan_limit.isna()==True].index)\n",
    "len(df)"
   ]
  },
  {
   "cell_type": "code",
   "execution_count": 14,
   "metadata": {},
   "outputs": [
    {
     "data": {
      "text/html": [
       "<div>\n",
       "<style scoped>\n",
       "    .dataframe tbody tr th:only-of-type {\n",
       "        vertical-align: middle;\n",
       "    }\n",
       "\n",
       "    .dataframe tbody tr th {\n",
       "        vertical-align: top;\n",
       "    }\n",
       "\n",
       "    .dataframe thead th {\n",
       "        text-align: right;\n",
       "    }\n",
       "</style>\n",
       "<table border=\"1\" class=\"dataframe\">\n",
       "  <thead>\n",
       "    <tr style=\"text-align: right;\">\n",
       "      <th></th>\n",
       "      <th>conforming_loan_limit</th>\n",
       "      <th>action_taken</th>\n",
       "      <th>preapproval</th>\n",
       "      <th>loan_type</th>\n",
       "      <th>loan_purpose</th>\n",
       "      <th>lien_status</th>\n",
       "      <th>loan_amount</th>\n",
       "      <th>hoepa_status</th>\n",
       "      <th>negative_amortization</th>\n",
       "      <th>interest_only_payment</th>\n",
       "      <th>balloon_payment</th>\n",
       "      <th>construction_method</th>\n",
       "      <th>occupancy_type</th>\n",
       "      <th>total_units</th>\n",
       "      <th>income</th>\n",
       "      <th>debt_to_income_ratio</th>\n",
       "      <th>tract_population</th>\n",
       "      <th>tract_minority_population_percent</th>\n",
       "      <th>ffiec_msa_md_median_family_income</th>\n",
       "      <th>tract_to_msa_income_percentage</th>\n",
       "      <th>tract_owner_occupied_units</th>\n",
       "      <th>tract_one_to_four_family_homes</th>\n",
       "      <th>tract_median_age_of_housing_units</th>\n",
       "    </tr>\n",
       "  </thead>\n",
       "  <tbody>\n",
       "    <tr>\n",
       "      <th>0</th>\n",
       "      <td>C</td>\n",
       "      <td>3</td>\n",
       "      <td>2</td>\n",
       "      <td>1</td>\n",
       "      <td>2</td>\n",
       "      <td>2</td>\n",
       "      <td>25000.0</td>\n",
       "      <td>3</td>\n",
       "      <td>2</td>\n",
       "      <td>2</td>\n",
       "      <td>2</td>\n",
       "      <td>1</td>\n",
       "      <td>1</td>\n",
       "      <td>1</td>\n",
       "      <td>71.0</td>\n",
       "      <td>44</td>\n",
       "      <td>7800</td>\n",
       "      <td>70.21</td>\n",
       "      <td>65800</td>\n",
       "      <td>114</td>\n",
       "      <td>1433</td>\n",
       "      <td>2096</td>\n",
       "      <td>27</td>\n",
       "    </tr>\n",
       "    <tr>\n",
       "      <th>1</th>\n",
       "      <td>C</td>\n",
       "      <td>3</td>\n",
       "      <td>2</td>\n",
       "      <td>1</td>\n",
       "      <td>2</td>\n",
       "      <td>2</td>\n",
       "      <td>35000.0</td>\n",
       "      <td>3</td>\n",
       "      <td>2</td>\n",
       "      <td>2</td>\n",
       "      <td>2</td>\n",
       "      <td>1</td>\n",
       "      <td>1</td>\n",
       "      <td>1</td>\n",
       "      <td>102.0</td>\n",
       "      <td>&gt;60%</td>\n",
       "      <td>8228</td>\n",
       "      <td>80.40</td>\n",
       "      <td>63700</td>\n",
       "      <td>61</td>\n",
       "      <td>1249</td>\n",
       "      <td>2574</td>\n",
       "      <td>50</td>\n",
       "    </tr>\n",
       "    <tr>\n",
       "      <th>2</th>\n",
       "      <td>C</td>\n",
       "      <td>3</td>\n",
       "      <td>2</td>\n",
       "      <td>1</td>\n",
       "      <td>4</td>\n",
       "      <td>2</td>\n",
       "      <td>35000.0</td>\n",
       "      <td>3</td>\n",
       "      <td>2</td>\n",
       "      <td>2</td>\n",
       "      <td>2</td>\n",
       "      <td>1</td>\n",
       "      <td>1</td>\n",
       "      <td>1</td>\n",
       "      <td>124.0</td>\n",
       "      <td>&lt;20%</td>\n",
       "      <td>5856</td>\n",
       "      <td>95.59</td>\n",
       "      <td>55200</td>\n",
       "      <td>53</td>\n",
       "      <td>358</td>\n",
       "      <td>1101</td>\n",
       "      <td>33</td>\n",
       "    </tr>\n",
       "    <tr>\n",
       "      <th>3</th>\n",
       "      <td>C</td>\n",
       "      <td>3</td>\n",
       "      <td>2</td>\n",
       "      <td>1</td>\n",
       "      <td>4</td>\n",
       "      <td>2</td>\n",
       "      <td>35000.0</td>\n",
       "      <td>3</td>\n",
       "      <td>2</td>\n",
       "      <td>2</td>\n",
       "      <td>2</td>\n",
       "      <td>1</td>\n",
       "      <td>1</td>\n",
       "      <td>1</td>\n",
       "      <td>132.0</td>\n",
       "      <td>20%-&lt;30%</td>\n",
       "      <td>4905</td>\n",
       "      <td>65.91</td>\n",
       "      <td>80400</td>\n",
       "      <td>97</td>\n",
       "      <td>1042</td>\n",
       "      <td>1432</td>\n",
       "      <td>0</td>\n",
       "    </tr>\n",
       "    <tr>\n",
       "      <th>4</th>\n",
       "      <td>C</td>\n",
       "      <td>3</td>\n",
       "      <td>2</td>\n",
       "      <td>1</td>\n",
       "      <td>2</td>\n",
       "      <td>2</td>\n",
       "      <td>55000.0</td>\n",
       "      <td>3</td>\n",
       "      <td>2</td>\n",
       "      <td>2</td>\n",
       "      <td>2</td>\n",
       "      <td>1</td>\n",
       "      <td>1</td>\n",
       "      <td>1</td>\n",
       "      <td>145.0</td>\n",
       "      <td>20%-&lt;30%</td>\n",
       "      <td>5080</td>\n",
       "      <td>53.62</td>\n",
       "      <td>80400</td>\n",
       "      <td>161</td>\n",
       "      <td>1343</td>\n",
       "      <td>1481</td>\n",
       "      <td>13</td>\n",
       "    </tr>\n",
       "  </tbody>\n",
       "</table>\n",
       "</div>"
      ],
      "text/plain": [
       "  conforming_loan_limit  action_taken  preapproval  loan_type  loan_purpose  \\\n",
       "0                     C             3            2          1             2   \n",
       "1                     C             3            2          1             2   \n",
       "2                     C             3            2          1             4   \n",
       "3                     C             3            2          1             4   \n",
       "4                     C             3            2          1             2   \n",
       "\n",
       "   lien_status  loan_amount  hoepa_status  negative_amortization  \\\n",
       "0            2      25000.0             3                      2   \n",
       "1            2      35000.0             3                      2   \n",
       "2            2      35000.0             3                      2   \n",
       "3            2      35000.0             3                      2   \n",
       "4            2      55000.0             3                      2   \n",
       "\n",
       "   interest_only_payment  balloon_payment  construction_method  \\\n",
       "0                      2                2                    1   \n",
       "1                      2                2                    1   \n",
       "2                      2                2                    1   \n",
       "3                      2                2                    1   \n",
       "4                      2                2                    1   \n",
       "\n",
       "   occupancy_type total_units  income debt_to_income_ratio  tract_population  \\\n",
       "0               1           1    71.0                   44              7800   \n",
       "1               1           1   102.0                 >60%              8228   \n",
       "2               1           1   124.0                 <20%              5856   \n",
       "3               1           1   132.0             20%-<30%              4905   \n",
       "4               1           1   145.0             20%-<30%              5080   \n",
       "\n",
       "   tract_minority_population_percent  ffiec_msa_md_median_family_income  \\\n",
       "0                              70.21                              65800   \n",
       "1                              80.40                              63700   \n",
       "2                              95.59                              55200   \n",
       "3                              65.91                              80400   \n",
       "4                              53.62                              80400   \n",
       "\n",
       "   tract_to_msa_income_percentage  tract_owner_occupied_units  \\\n",
       "0                             114                        1433   \n",
       "1                              61                        1249   \n",
       "2                              53                         358   \n",
       "3                              97                        1042   \n",
       "4                             161                        1343   \n",
       "\n",
       "   tract_one_to_four_family_homes  tract_median_age_of_housing_units  \n",
       "0                            2096                                 27  \n",
       "1                            2574                                 50  \n",
       "2                            1101                                 33  \n",
       "3                            1432                                  0  \n",
       "4                            1481                                 13  "
      ]
     },
     "execution_count": 14,
     "metadata": {},
     "output_type": "execute_result"
    }
   ],
   "source": [
    "df.head()"
   ]
  },
  {
   "cell_type": "code",
   "execution_count": 15,
   "metadata": {},
   "outputs": [
    {
     "data": {
      "text/plain": [
       "C     880799\n",
       "NC    129156\n",
       "U         83\n",
       "Name: conforming_loan_limit, dtype: int64"
      ]
     },
     "execution_count": 15,
     "metadata": {},
     "output_type": "execute_result"
    }
   ],
   "source": [
    "df.conforming_loan_limit.value_counts()"
   ]
  },
  {
   "cell_type": "code",
   "execution_count": 16,
   "metadata": {},
   "outputs": [],
   "source": [
    "df.loc[df['conforming_loan_limit'] == 'C', 'conforming_loan_limit'] = 1\n",
    "df.loc[df['conforming_loan_limit'] == 'NC', 'conforming_loan_limit'] = 2\n"
   ]
  },
  {
   "cell_type": "code",
   "execution_count": 17,
   "metadata": {},
   "outputs": [],
   "source": [
    "df = df.drop(df[df.conforming_loan_limit=='U'].index)"
   ]
  },
  {
   "cell_type": "code",
   "execution_count": 18,
   "metadata": {},
   "outputs": [
    {
     "data": {
      "text/plain": [
       "1    715074\n",
       "3    259063\n",
       "2     31517\n",
       "8      2811\n",
       "7      1490\n",
       "Name: action_taken, dtype: int64"
      ]
     },
     "execution_count": 18,
     "metadata": {},
     "output_type": "execute_result"
    }
   ],
   "source": [
    "df.action_taken.value_counts()"
   ]
  },
  {
   "cell_type": "code",
   "execution_count": 19,
   "metadata": {},
   "outputs": [
    {
     "data": {
      "text/plain": [
       "2    984706\n",
       "1     25249\n",
       "Name: preapproval, dtype: int64"
      ]
     },
     "execution_count": 19,
     "metadata": {},
     "output_type": "execute_result"
    }
   ],
   "source": [
    "df.preapproval.value_counts()"
   ]
  },
  {
   "cell_type": "code",
   "execution_count": 20,
   "metadata": {},
   "outputs": [
    {
     "data": {
      "text/plain": [
       "1     386104\n",
       "32    231049\n",
       "31    161258\n",
       "2     120997\n",
       "4     110306\n",
       "5        241\n",
       "Name: loan_purpose, dtype: int64"
      ]
     },
     "execution_count": 20,
     "metadata": {},
     "output_type": "execute_result"
    }
   ],
   "source": [
    "df.loan_purpose.value_counts()"
   ]
  },
  {
   "cell_type": "code",
   "execution_count": 21,
   "metadata": {},
   "outputs": [],
   "source": [
    "#Getting rid of N/A purpose\n",
    "df = df.drop(df[df.loan_purpose==5].index)"
   ]
  },
  {
   "cell_type": "code",
   "execution_count": 22,
   "metadata": {},
   "outputs": [
    {
     "data": {
      "text/plain": [
       "1    751972\n",
       "2    257742\n",
       "Name: lien_status, dtype: int64"
      ]
     },
     "execution_count": 22,
     "metadata": {},
     "output_type": "execute_result"
    }
   ],
   "source": [
    "df.lien_status.value_counts()"
   ]
  },
  {
   "cell_type": "code",
   "execution_count": 23,
   "metadata": {},
   "outputs": [
    {
     "data": {
      "text/plain": [
       "2    664788\n",
       "3    344404\n",
       "1       522\n",
       "Name: hoepa_status, dtype: int64"
      ]
     },
     "execution_count": 23,
     "metadata": {},
     "output_type": "execute_result"
    }
   ],
   "source": [
    "df.hoepa_status.value_counts()"
   ]
  },
  {
   "cell_type": "code",
   "execution_count": 24,
   "metadata": {},
   "outputs": [],
   "source": [
    "#getting rid of \"N/A\" status\n",
    "df = df.drop(df[df.hoepa_status==3].index)"
   ]
  },
  {
   "cell_type": "code",
   "execution_count": 25,
   "metadata": {},
   "outputs": [
    {
     "data": {
      "text/plain": [
       "2       664907\n",
       "1111       368\n",
       "1           35\n",
       "Name: negative_amortization, dtype: int64"
      ]
     },
     "execution_count": 25,
     "metadata": {},
     "output_type": "execute_result"
    }
   ],
   "source": [
    "df.negative_amortization.value_counts()"
   ]
  },
  {
   "cell_type": "code",
   "execution_count": 26,
   "metadata": {},
   "outputs": [],
   "source": [
    "df = df.drop(df[df.negative_amortization==1].index)\n",
    "df = df.drop(df[df.negative_amortization==1111].index)\n",
    "df.drop('negative_amortization',axis=1,inplace=True)"
   ]
  },
  {
   "cell_type": "code",
   "execution_count": 27,
   "metadata": {},
   "outputs": [
    {
     "data": {
      "text/plain": [
       "2    600507\n",
       "1     64400\n",
       "Name: interest_only_payment, dtype: int64"
      ]
     },
     "execution_count": 27,
     "metadata": {},
     "output_type": "execute_result"
    }
   ],
   "source": [
    "df.interest_only_payment.value_counts()"
   ]
  },
  {
   "cell_type": "code",
   "execution_count": 28,
   "metadata": {},
   "outputs": [
    {
     "data": {
      "text/plain": [
       "2    658632\n",
       "1      6275\n",
       "Name: balloon_payment, dtype: int64"
      ]
     },
     "execution_count": 28,
     "metadata": {},
     "output_type": "execute_result"
    }
   ],
   "source": [
    "df.balloon_payment.value_counts()"
   ]
  },
  {
   "cell_type": "code",
   "execution_count": 29,
   "metadata": {},
   "outputs": [],
   "source": [
    "#getting rid of balloon payments since not many cases and not common\n",
    "df = df.drop(df[df.balloon_payment==1].index)\n",
    "df.drop('balloon_payment',axis=1,inplace=True)"
   ]
  },
  {
   "cell_type": "code",
   "execution_count": 30,
   "metadata": {},
   "outputs": [
    {
     "data": {
      "text/plain": [
       "1    649681\n",
       "2      8951\n",
       "Name: construction_method, dtype: int64"
      ]
     },
     "execution_count": 30,
     "metadata": {},
     "output_type": "execute_result"
    }
   ],
   "source": [
    "df.construction_method.value_counts()"
   ]
  },
  {
   "cell_type": "code",
   "execution_count": 31,
   "metadata": {},
   "outputs": [
    {
     "data": {
      "text/plain": [
       "1    631850\n",
       "3     16853\n",
       "2      9929\n",
       "Name: occupancy_type, dtype: int64"
      ]
     },
     "execution_count": 31,
     "metadata": {},
     "output_type": "execute_result"
    }
   ],
   "source": [
    "df.occupancy_type.value_counts()"
   ]
  },
  {
   "cell_type": "code",
   "execution_count": 32,
   "metadata": {},
   "outputs": [
    {
     "data": {
      "text/plain": [
       "1    367667\n",
       "1    278606\n",
       "2      5092\n",
       "2      3770\n",
       "3      1085\n",
       "4       940\n",
       "3       820\n",
       "4       652\n",
       "Name: total_units, dtype: int64"
      ]
     },
     "execution_count": 32,
     "metadata": {},
     "output_type": "execute_result"
    }
   ],
   "source": [
    "df.total_units.value_counts()"
   ]
  },
  {
   "cell_type": "code",
   "execution_count": 33,
   "metadata": {},
   "outputs": [
    {
     "data": {
      "text/plain": [
       "1    646273\n",
       "2      8862\n",
       "3      1905\n",
       "4      1592\n",
       "Name: total_units, dtype: int64"
      ]
     },
     "execution_count": 33,
     "metadata": {},
     "output_type": "execute_result"
    }
   ],
   "source": [
    "df.loc[df['total_units'] == '1', 'total_units'] = 1\n",
    "df.loc[df['total_units'] == '2', 'total_units'] = 2\n",
    "df.loc[df['total_units'] == '3', 'total_units'] = 3\n",
    "df.loc[df['total_units'] == '4', 'total_units'] = 4\n",
    "df.total_units.value_counts()"
   ]
  },
  {
   "cell_type": "code",
   "execution_count": 34,
   "metadata": {},
   "outputs": [
    {
     "data": {
      "text/plain": [
       "45%-<50%    136992\n",
       "30%-<36%    103962\n",
       "37%-<40%     96484\n",
       "20%-<30%     86858\n",
       "50%-60%      41561\n",
       "42%-<45%     40024\n",
       "44%-<45%     35331\n",
       "41%-<45%     30945\n",
       "43%-<45%     28946\n",
       "40%-<45%     28518\n",
       "<20%         24503\n",
       ">60%          4508\n",
       "Name: debt_to_income_ratio, dtype: int64"
      ]
     },
     "execution_count": 34,
     "metadata": {},
     "output_type": "execute_result"
    }
   ],
   "source": [
    "df.loc[df['debt_to_income_ratio'] == '49', 'debt_to_income_ratio'] = '45%-<50%'\n",
    "df.loc[df['debt_to_income_ratio'] == '48', 'debt_to_income_ratio'] = '45%-<50%'\n",
    "df.loc[df['debt_to_income_ratio'] == '47', 'debt_to_income_ratio'] = '45%-<50%'\n",
    "df.loc[df['debt_to_income_ratio'] == '46', 'debt_to_income_ratio'] = '45%-<50%'\n",
    "df.loc[df['debt_to_income_ratio'] == '45', 'debt_to_income_ratio'] = '45%-<50%'\n",
    "\n",
    "df.loc[df['debt_to_income_ratio'] == '40', 'debt_to_income_ratio'] = '40%-<45%'\n",
    "df.loc[df['debt_to_income_ratio'] == '41', 'debt_to_income_ratio'] = '41%-<45%'\n",
    "df.loc[df['debt_to_income_ratio'] == '42', 'debt_to_income_ratio'] = '42%-<45%'\n",
    "df.loc[df['debt_to_income_ratio'] == '43', 'debt_to_income_ratio'] = '43%-<45%'\n",
    "df.loc[df['debt_to_income_ratio'] == '44', 'debt_to_income_ratio'] = '44%-<45%'\n",
    "\n",
    "df.loc[df['debt_to_income_ratio'] == '39', 'debt_to_income_ratio'] = '37%-<40%'\n",
    "df.loc[df['debt_to_income_ratio'] == '38', 'debt_to_income_ratio'] = '37%-<40%'\n",
    "df.loc[df['debt_to_income_ratio'] == '37', 'debt_to_income_ratio'] = '37%-<40%'\n",
    "df.loc[df['debt_to_income_ratio'] == '36', 'debt_to_income_ratio'] = '37%-<40%'\n",
    "df.loc[df['debt_to_income_ratio'] == '35', 'debt_to_income_ratio'] = '37%-<40%'\n",
    "\n",
    "\n",
    "\n",
    "df.debt_to_income_ratio.value_counts()"
   ]
  },
  {
   "cell_type": "code",
   "execution_count": 35,
   "metadata": {},
   "outputs": [
    {
     "data": {
      "text/plain": [
       "1    588925\n",
       "2     69707\n",
       "Name: loan_type, dtype: int64"
      ]
     },
     "execution_count": 35,
     "metadata": {},
     "output_type": "execute_result"
    }
   ],
   "source": [
    "##TARGET\n",
    "df.loan_type.value_counts()"
   ]
  },
  {
   "cell_type": "code",
   "execution_count": 36,
   "metadata": {},
   "outputs": [
    {
     "data": {
      "text/plain": [
       "17      435.0\n",
       "182     142.0\n",
       "194     708.0\n",
       "195     282.0\n",
       "196    1376.0\n",
       "Name: income, dtype: float64"
      ]
     },
     "execution_count": 36,
     "metadata": {},
     "output_type": "execute_result"
    }
   ],
   "source": [
    "df.income.head()"
   ]
  },
  {
   "cell_type": "markdown",
   "metadata": {},
   "source": [
    "### EDA"
   ]
  },
  {
   "cell_type": "code",
   "execution_count": 37,
   "metadata": {},
   "outputs": [
    {
     "data": {
      "image/png": "[encoded data removed]",
      "text/plain": [
       "<Figure size 432x288 with 1 Axes>"
      ]
     },
     "metadata": {
      "needs_background": "light"
     },
     "output_type": "display_data"
    }
   ],
   "source": [
    "plt.scatter(df.income,df.loan_amount)\n",
    "plt.xlabel(\"Income\")\n",
    "plt.ylabel(\"Loan Amount\")\n",
    "plt.title(\"Income vs. Loan Amount\")\n",
    "plt.show()"
   ]
  },
  {
   "cell_type": "code",
   "execution_count": 38,
   "metadata": {},
   "outputs": [
    {
     "name": "stdout",
     "output_type": "stream",
     "text": [
      "-945.0 2356788.0\n"
     ]
    }
   ],
   "source": [
    "print(df.income.min(), df.income.max())"
   ]
  },
  {
   "cell_type": "code",
   "execution_count": 39,
   "metadata": {},
   "outputs": [
    {
     "name": "stdout",
     "output_type": "stream",
     "text": [
      "5000.0 49905000.0\n"
     ]
    }
   ],
   "source": [
    "print(df.loan_amount.min(), df.loan_amount.max())"
   ]
  },
  {
   "cell_type": "code",
   "execution_count": 40,
   "metadata": {},
   "outputs": [],
   "source": [
    "df.drop(df[df.income>1000].index, inplace=True)\n",
    "df.drop(df[df.income<=0].index, inplace=True)\n",
    "df.drop(df[df.loan_amount>5000000].index, inplace=True)"
   ]
  },
  {
   "cell_type": "code",
   "execution_count": 41,
   "metadata": {},
   "outputs": [
    {
     "data": {
      "image/png": "[encoded data removed]",
      "text/plain": [
       "<Figure size 432x288 with 1 Axes>"
      ]
     },
     "metadata": {
      "needs_background": "light"
     },
     "output_type": "display_data"
    }
   ],
   "source": [
    "plt.scatter(df.income,df.loan_amount)\n",
    "plt.xlabel(\"Income\")\n",
    "plt.ylabel(\"Loan Amount\")\n",
    "plt.title(\"Income vs. Loan Amount\")\n",
    "plt.show()"
   ]
  },
  {
   "cell_type": "code",
   "execution_count": 42,
   "metadata": {},
   "outputs": [],
   "source": [
    "transformed_df = pd.get_dummies(df)"
   ]
  },
  {
   "cell_type": "code",
   "execution_count": 43,
   "metadata": {},
   "outputs": [],
   "source": [
    "def multi_collinearity_heatmap(df, figsize=(11,9)):\n",
    "    \n",
    "    \"\"\"\n",
    "    Creates a heatmap of correlations between features in the df. A figure size can optionally be set.\n",
    "    \"\"\"\n",
    "    \n",
    "    # Set the style of the visualization\n",
    "    sns.set(style=\"white\")\n",
    "\n",
    "    # Create a covariance matrix\n",
    "    corr = df.corr()\n",
    "\n",
    "    # Generate a mask the size of our covariance matrix\n",
    "    mask = np.zeros_like(corr, dtype=np.bool)\n",
    "    mask[np.triu_indices_from(mask)] = True\n",
    "\n",
    "    # Set up the matplotlib figure\n",
    "    f, ax = plt.subplots(figsize=figsize)\n",
    "\n",
    "    # Generate a custom diverging colormap\n",
    "    cmap = sns.diverging_palette(220, 10, as_cmap=True)\n",
    "\n",
    "    # Draw the heatmap with the mask and correct aspect ratio\n",
    "    sns.heatmap(corr, mask=mask, cmap=cmap, center=0, square=True, linewidths=.5, cbar_kws={\"shrink\": .5}, vmax=corr[corr != 1.0].max().max());"
   ]
  },
  {
   "cell_type": "code",
   "execution_count": 44,
   "metadata": {},
   "outputs": [
    {
     "data": {
      "image/png": "[encoded data removed]",
      "text/plain": [
       "<Figure size 1800x1584 with 2 Axes>"
      ]
     },
     "metadata": {},
     "output_type": "display_data"
    }
   ],
   "source": [
    "multi_collinearity_heatmap(transformed_df, figsize=(25,22))"
   ]
  },
  {
   "cell_type": "code",
   "execution_count": 45,
   "metadata": {},
   "outputs": [],
   "source": [
    "# Separating X and y\n",
    "X = transformed_df.drop('loan_type', axis=1)\n",
    "y = transformed_df.loan_type"
   ]
  },
  {
   "cell_type": "code",
   "execution_count": 46,
   "metadata": {},
   "outputs": [],
   "source": [
    "X_train, X_test, y_train, y_test = train_test_split(X, y, test_size=0.2, random_state=123)"
   ]
  },
  {
   "cell_type": "code",
   "execution_count": 47,
   "metadata": {},
   "outputs": [
    {
     "data": {
      "text/plain": [
       "RandomForestClassifier(bootstrap=True, ccp_alpha=0.0, class_weight=None,\n",
       "                       criterion='gini', max_depth=10, max_features='auto',\n",
       "                       max_leaf_nodes=None, max_samples=None,\n",
       "                       min_impurity_decrease=0.0, min_impurity_split=None,\n",
       "                       min_samples_leaf=1, min_samples_split=2,\n",
       "                       min_weight_fraction_leaf=0.0, n_estimators=100,\n",
       "                       n_jobs=None, oob_score=False, random_state=None,\n",
       "                       verbose=0, warm_start=False)"
      ]
     },
     "execution_count": 47,
     "metadata": {},
     "output_type": "execute_result"
    }
   ],
   "source": [
    "from sklearn.ensemble import RandomForestClassifier\n",
    "\n",
    "rfr = RandomForestClassifier(n_estimators=100, max_depth=10)\n",
    "#param_grid = [\n",
    "  #{'max_depth': [5,15,20]}\n",
    "#]\n",
    "#grid_search = GridSearchCV(estimator=rfr, param_grid=param_grid, cv=3, verbose=-1)\n",
    "#grid_search.fit(X_train, y_train)\n",
    "\n",
    "rfr.fit(X_train, y_train)"
   ]
  },
  {
   "cell_type": "code",
   "execution_count": 48,
   "metadata": {},
   "outputs": [],
   "source": [
    "train_rf_predictions = rfr.predict(X_train)\n",
    "train_rf_probs = rfr.predict_proba(X_train)[:, 1]\n",
    "\n",
    "rf_predictions = rfr.predict(X_test)\n",
    "rf_probs = rfr.predict_proba(X_test)[:, 1]"
   ]
  },
  {
   "cell_type": "code",
   "execution_count": 49,
   "metadata": {},
   "outputs": [],
   "source": [
    "def evaluate_model(predictions, probs, train_predictions, train_probs):\n",
    "    \"\"\"Compare machine learning model to baseline performance.\n",
    "    Computes statistics and shows ROC curve.\"\"\"\n",
    "    \n",
    "    baseline = {}\n",
    "    \n",
    "    baseline['recall'] = recall_score(y_test, [1 for _ in range(len(y_test))])\n",
    "    baseline['precision'] = precision_score(y_test, [1 for _ in range(len(y_test))])\n",
    "    baseline['roc'] = 0.5\n",
    "    \n",
    "    results = {}\n",
    "    \n",
    "    results['recall'] = recall_score(y_test, predictions)\n",
    "    results['precision'] = precision_score(y_test, predictions)\n",
    "    results['roc'] = roc_auc_score(y_test, probs)\n",
    "    \n",
    "    train_results = {}\n",
    "    train_results['recall'] = recall_score(y_train, train_predictions)\n",
    "    train_results['precision'] = precision_score(y_train, train_predictions)\n",
    "    train_results['roc'] = roc_auc_score(y_train, train_probs)\n",
    "    \n",
    "    for metric in ['recall', 'precision', 'roc']:\n",
    "        print(f'{metric.capitalize()} Baseline: {round(baseline[metric], 2)} Test: {round(results[metric], 2)} Train: {round(train_results[metric], 2)}')\n",
    "    \n",
    "    # Calculate false positive rates and true positive rates\n",
    "    base_fpr, base_tpr, _ = roc_curve(y_test, [1 for _ in range(len(y_test))], pos_label=2)\n",
    "    model_fpr, model_tpr, _ = roc_curve(y_test, probs, pos_label=2)\n",
    "\n",
    "    plt.figure(figsize = (8, 6))\n",
    "    plt.rcParams['font.size'] = 16\n",
    "    \n",
    "    # Plot both curves\n",
    "    plt.plot(base_fpr, base_tpr, 'b', label = 'baseline')\n",
    "    plt.plot(model_fpr, model_tpr, 'r', label = 'model')\n",
    "    plt.legend();\n",
    "    plt.xlabel('False Positive Rate'); plt.ylabel('True Positive Rate'); plt.title('ROC Curves');"
   ]
  },
  {
   "cell_type": "code",
   "execution_count": 50,
   "metadata": {},
   "outputs": [
    {
     "name": "stdout",
     "output_type": "stream",
     "text": [
      "Recall Baseline: 1.0 Test: 0.99 Train: 0.99\n",
      "Precision Baseline: 0.89 Test: 0.93 Train: 0.93\n",
      "Roc Baseline: 0.5 Test: 0.9 Train: 0.9\n"
     ]
    },
    {
     "data": {
      "image/png": "[encoded data removed]",
      "text/plain": [
       "<Figure size 576x432 with 1 Axes>"
      ]
     },
     "metadata": {},
     "output_type": "display_data"
    }
   ],
   "source": [
    "from sklearn.metrics import precision_score, recall_score, roc_auc_score, roc_curve\n",
    "\n",
    "evaluate_model(rf_predictions, rf_probs, train_rf_predictions, train_rf_probs)"
   ]
  },
  {
   "cell_type": "code",
   "execution_count": 51,
   "metadata": {},
   "outputs": [
    {
     "data": {
      "text/html": [
       "<div>\n",
       "<style scoped>\n",
       "    .dataframe tbody tr th:only-of-type {\n",
       "        vertical-align: middle;\n",
       "    }\n",
       "\n",
       "    .dataframe tbody tr th {\n",
       "        vertical-align: top;\n",
       "    }\n",
       "\n",
       "    .dataframe thead th {\n",
       "        text-align: right;\n",
       "    }\n",
       "</style>\n",
       "<table border=\"1\" class=\"dataframe\">\n",
       "  <thead>\n",
       "    <tr style=\"text-align: right;\">\n",
       "      <th></th>\n",
       "      <th>weight</th>\n",
       "    </tr>\n",
       "  </thead>\n",
       "  <tbody>\n",
       "    <tr>\n",
       "      <th>action_taken</th>\n",
       "      <td>0.000000</td>\n",
       "    </tr>\n",
       "    <tr>\n",
       "      <th>hoepa_status</th>\n",
       "      <td>0.000047</td>\n",
       "    </tr>\n",
       "    <tr>\n",
       "      <th>total_units_4</th>\n",
       "      <td>0.000059</td>\n",
       "    </tr>\n",
       "    <tr>\n",
       "      <th>total_units_3</th>\n",
       "      <td>0.000087</td>\n",
       "    </tr>\n",
       "    <tr>\n",
       "      <th>debt_to_income_ratio_&gt;60%</th>\n",
       "      <td>0.000134</td>\n",
       "    </tr>\n",
       "    <tr>\n",
       "      <th>debt_to_income_ratio_40%-&lt;45%</th>\n",
       "      <td>0.000211</td>\n",
       "    </tr>\n",
       "    <tr>\n",
       "      <th>debt_to_income_ratio_43%-&lt;45%</th>\n",
       "      <td>0.000244</td>\n",
       "    </tr>\n",
       "    <tr>\n",
       "      <th>total_units_1</th>\n",
       "      <td>0.000347</td>\n",
       "    </tr>\n",
       "    <tr>\n",
       "      <th>debt_to_income_ratio_41%-&lt;45%</th>\n",
       "      <td>0.000398</td>\n",
       "    </tr>\n",
       "    <tr>\n",
       "      <th>debt_to_income_ratio_42%-&lt;45%</th>\n",
       "      <td>0.000437</td>\n",
       "    </tr>\n",
       "    <tr>\n",
       "      <th>preapproval</th>\n",
       "      <td>0.000583</td>\n",
       "    </tr>\n",
       "    <tr>\n",
       "      <th>total_units_2</th>\n",
       "      <td>0.000595</td>\n",
       "    </tr>\n",
       "    <tr>\n",
       "      <th>debt_to_income_ratio_44%-&lt;45%</th>\n",
       "      <td>0.000929</td>\n",
       "    </tr>\n",
       "    <tr>\n",
       "      <th>debt_to_income_ratio_37%-&lt;40%</th>\n",
       "      <td>0.002233</td>\n",
       "    </tr>\n",
       "    <tr>\n",
       "      <th>construction_method</th>\n",
       "      <td>0.002521</td>\n",
       "    </tr>\n",
       "    <tr>\n",
       "      <th>debt_to_income_ratio_&lt;20%</th>\n",
       "      <td>0.002725</td>\n",
       "    </tr>\n",
       "    <tr>\n",
       "      <th>tract_population</th>\n",
       "      <td>0.003491</td>\n",
       "    </tr>\n",
       "    <tr>\n",
       "      <th>tract_owner_occupied_units</th>\n",
       "      <td>0.003951</td>\n",
       "    </tr>\n",
       "    <tr>\n",
       "      <th>debt_to_income_ratio_45%-&lt;50%</th>\n",
       "      <td>0.004702</td>\n",
       "    </tr>\n",
       "    <tr>\n",
       "      <th>tract_one_to_four_family_homes</th>\n",
       "      <td>0.004707</td>\n",
       "    </tr>\n",
       "    <tr>\n",
       "      <th>debt_to_income_ratio_30%-&lt;36%</th>\n",
       "      <td>0.005403</td>\n",
       "    </tr>\n",
       "    <tr>\n",
       "      <th>tract_median_age_of_housing_units</th>\n",
       "      <td>0.006972</td>\n",
       "    </tr>\n",
       "    <tr>\n",
       "      <th>debt_to_income_ratio_20%-&lt;30%</th>\n",
       "      <td>0.010693</td>\n",
       "    </tr>\n",
       "    <tr>\n",
       "      <th>conforming_loan_limit_2</th>\n",
       "      <td>0.011505</td>\n",
       "    </tr>\n",
       "    <tr>\n",
       "      <th>interest_only_payment</th>\n",
       "      <td>0.012651</td>\n",
       "    </tr>\n",
       "    <tr>\n",
       "      <th>conforming_loan_limit_1</th>\n",
       "      <td>0.014352</td>\n",
       "    </tr>\n",
       "    <tr>\n",
       "      <th>occupancy_type</th>\n",
       "      <td>0.014670</td>\n",
       "    </tr>\n",
       "    <tr>\n",
       "      <th>tract_minority_population_percent</th>\n",
       "      <td>0.020835</td>\n",
       "    </tr>\n",
       "    <tr>\n",
       "      <th>tract_to_msa_income_percentage</th>\n",
       "      <td>0.038871</td>\n",
       "    </tr>\n",
       "    <tr>\n",
       "      <th>income</th>\n",
       "      <td>0.058925</td>\n",
       "    </tr>\n",
       "    <tr>\n",
       "      <th>lien_status</th>\n",
       "      <td>0.066792</td>\n",
       "    </tr>\n",
       "    <tr>\n",
       "      <th>loan_amount</th>\n",
       "      <td>0.078633</td>\n",
       "    </tr>\n",
       "    <tr>\n",
       "      <th>loan_purpose</th>\n",
       "      <td>0.092172</td>\n",
       "    </tr>\n",
       "    <tr>\n",
       "      <th>ffiec_msa_md_median_family_income</th>\n",
       "      <td>0.094271</td>\n",
       "    </tr>\n",
       "    <tr>\n",
       "      <th>debt_to_income_ratio_50%-60%</th>\n",
       "      <td>0.444852</td>\n",
       "    </tr>\n",
       "  </tbody>\n",
       "</table>\n",
       "</div>"
      ],
      "text/plain": [
       "                                     weight\n",
       "action_taken                       0.000000\n",
       "hoepa_status                       0.000047\n",
       "total_units_4                      0.000059\n",
       "total_units_3                      0.000087\n",
       "debt_to_income_ratio_>60%          0.000134\n",
       "debt_to_income_ratio_40%-<45%      0.000211\n",
       "debt_to_income_ratio_43%-<45%      0.000244\n",
       "total_units_1                      0.000347\n",
       "debt_to_income_ratio_41%-<45%      0.000398\n",
       "debt_to_income_ratio_42%-<45%      0.000437\n",
       "preapproval                        0.000583\n",
       "total_units_2                      0.000595\n",
       "debt_to_income_ratio_44%-<45%      0.000929\n",
       "debt_to_income_ratio_37%-<40%      0.002233\n",
       "construction_method                0.002521\n",
       "debt_to_income_ratio_<20%          0.002725\n",
       "tract_population                   0.003491\n",
       "tract_owner_occupied_units         0.003951\n",
       "debt_to_income_ratio_45%-<50%      0.004702\n",
       "tract_one_to_four_family_homes     0.004707\n",
       "debt_to_income_ratio_30%-<36%      0.005403\n",
       "tract_median_age_of_housing_units  0.006972\n",
       "debt_to_income_ratio_20%-<30%      0.010693\n",
       "conforming_loan_limit_2            0.011505\n",
       "interest_only_payment              0.012651\n",
       "conforming_loan_limit_1            0.014352\n",
       "occupancy_type                     0.014670\n",
       "tract_minority_population_percent  0.020835\n",
       "tract_to_msa_income_percentage     0.038871\n",
       "income                             0.058925\n",
       "lien_status                        0.066792\n",
       "loan_amount                        0.078633\n",
       "loan_purpose                       0.092172\n",
       "ffiec_msa_md_median_family_income  0.094271\n",
       "debt_to_income_ratio_50%-60%       0.444852"
      ]
     },
     "execution_count": 51,
     "metadata": {},
     "output_type": "execute_result"
    }
   ],
   "source": [
    "pd.set_option('display.max_rows', None)\n",
    "ft_weights_rfr = pd.DataFrame(rfr.feature_importances_, columns=['weight'], index=X_train.columns)\n",
    "ft_weights_rfr.sort_values('weight', inplace=True)\n",
    "ft_weights_rfr"
   ]
  },
  {
   "cell_type": "code",
   "execution_count": 52,
   "metadata": {},
   "outputs": [
    {
     "data": {
      "image/png": "[encoded data removed]",
      "text/plain": [
       "<Figure size 576x4320 with 1 Axes>"
      ]
     },
     "metadata": {},
     "output_type": "display_data"
    }
   ],
   "source": [
    "plt.figure(figsize=(8,60))\n",
    "plt.barh(ft_weights_rfr.index, ft_weights_rfr.weight, align='center') \n",
    "plt.title(\"Feature importances in the RFR model\", fontsize=14)\n",
    "plt.xlabel(\"Feature importance\")\n",
    "plt.margins(y=0.01)\n",
    "plt.show()"
   ]
  },
  {
   "cell_type": "code",
   "execution_count": null,
   "metadata": {},
   "outputs": [],
   "source": []
  }
 ],
 "metadata": {
  "kernelspec": {
   "display_name": "Python 3",
   "language": "python",
   "name": "python3"
  },
  "language_info": {
   "codemirror_mode": {
    "name": "ipython",
    "version": 3
   },
   "file_extension": ".py",
   "mimetype": "text/x-python",
   "name": "python",
   "nbconvert_exporter": "python",
   "pygments_lexer": "ipython3",
   "version": "3.7.7"
  }
 },
 "nbformat": 4,
 "nbformat_minor": 4
}
