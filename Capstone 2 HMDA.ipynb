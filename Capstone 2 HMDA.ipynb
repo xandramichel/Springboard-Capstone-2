{
 "cells": [
  {
   "cell_type": "markdown",
   "metadata": {},
   "source": [
    "# Capstone 2: Prediction of Mortgage Loan Type \n",
    "\n",
    "### Background/Motivation:\n",
    "There are many features that go into deciding whether someone will be approved or denied a home loan. There are different programs made available by different lenders, and a consumer may qualify for one or more programs based on their financial profile. While we cannot assume that historical data supports which program is the best option for a client, we can use it to predict which program will likely end up being the program they choose. For a system that shows a user all the loan options they may qualify for, it could cut down on time spent sifting through loan programs if we could predict with high probability which loan program is the most likely option, and present that to the consumer while sifting through the rest of the options to present. This project aims at predicting the loan type between Conventional and FHA mortgage, given some initial information about the consumer and intent behind the mortgage application."
   ]
  },
  {
   "cell_type": "code",
   "execution_count": 1,
   "metadata": {},
   "outputs": [],
   "source": [
    "import pandas as pd\n",
    "import numpy as np\n",
    "from numpy.random import seed\n",
    "seed(123)\n",
    "import matplotlib.pyplot as plt\n",
    "from collections import OrderedDict\n",
    "%matplotlib inline\n",
    "from datetime import datetime\n",
    "import seaborn as sns\n",
    "import geopandas as gpd\n",
    "from sklearn.preprocessing import StandardScaler, MinMaxScaler\n",
    "from sklearn.model_selection import train_test_split, cross_val_score, GridSearchCV\n",
    "import xgboost as xgb\n",
    "from xgboost import plot_importance\n",
    "from sklearn.metrics import explained_variance_score, mean_squared_error, r2_score\n",
    "import time\n",
    "#from keras import models, layers, optimizers, regularizers\n",
    "#from keras.utils.vis_utils import model_to_dot\n",
    "from IPython.display import SVG\n",
    "from statsmodels.tsa.seasonal import seasonal_decompose\n",
    "from scipy import stats\n",
    "\n",
    "pd.set_option('display.max_columns', None)\n"
   ]
  },
  {
   "cell_type": "code",
   "execution_count": 2,
   "metadata": {},
   "outputs": [
    {
     "name": "stderr",
     "output_type": "stream",
     "text": [
      "/anaconda3/lib/python3.7/site-packages/IPython/core/interactiveshell.py:3063: DtypeWarning: Columns (4,5,22,23,24,26,27,28,29,30,31,32,33,38,43,44,46,78,80) have mixed types.Specify dtype option on import or set low_memory=False.\n",
      "  interactivity=interactivity, compiler=compiler, result=result)\n"
     ]
    }
   ],
   "source": [
    "df = pd.read_csv('year_2018_state_CA.csv')\n",
    "#original_length = len(df)\n",
    "#print(f\"The dataset contains {original_length} loan files\")"
   ]
  },
  {
   "cell_type": "markdown",
   "metadata": {},
   "source": [
    "### Let's explore the columns of the dataset:"
   ]
  },
  {
   "cell_type": "code",
   "execution_count": 3,
   "metadata": {},
   "outputs": [
    {
     "data": {
      "text/plain": [
       "Index(['activity_year', 'lei', 'derived_msa-md', 'state_code', 'county_code',\n",
       "       'census_tract', 'conforming_loan_limit', 'derived_loan_product_type',\n",
       "       'derived_dwelling_category', 'derived_ethnicity', 'derived_race',\n",
       "       'derived_sex', 'action_taken', 'purchaser_type', 'preapproval',\n",
       "       'loan_type', 'loan_purpose', 'lien_status', 'reverse_mortgage',\n",
       "       'open-end_line_of_credit', 'business_or_commercial_purpose',\n",
       "       'loan_amount', 'loan_to_value_ratio', 'interest_rate', 'rate_spread',\n",
       "       'hoepa_status', 'total_loan_costs', 'total_points_and_fees',\n",
       "       'origination_charges', 'discount_points', 'lender_credits', 'loan_term',\n",
       "       'prepayment_penalty_term', 'intro_rate_period', 'negative_amortization',\n",
       "       'interest_only_payment', 'balloon_payment',\n",
       "       'other_nonamortizing_features', 'property_value', 'construction_method',\n",
       "       'occupancy_type', 'manufactured_home_secured_property_type',\n",
       "       'manufactured_home_land_property_interest', 'total_units',\n",
       "       'multifamily_affordable_units', 'income', 'debt_to_income_ratio',\n",
       "       'applicant_credit_score_type', 'co-applicant_credit_score_type',\n",
       "       'applicant_ethnicity-1', 'applicant_ethnicity-2',\n",
       "       'applicant_ethnicity-3', 'applicant_ethnicity-4',\n",
       "       'applicant_ethnicity-5', 'co-applicant_ethnicity-1',\n",
       "       'co-applicant_ethnicity-2', 'co-applicant_ethnicity-3',\n",
       "       'co-applicant_ethnicity-4', 'co-applicant_ethnicity-5',\n",
       "       'applicant_ethnicity_observed', 'co-applicant_ethnicity_observed',\n",
       "       'applicant_race-1', 'applicant_race-2', 'applicant_race-3',\n",
       "       'applicant_race-4', 'applicant_race-5', 'co-applicant_race-1',\n",
       "       'co-applicant_race-2', 'co-applicant_race-3', 'co-applicant_race-4',\n",
       "       'co-applicant_race-5', 'applicant_race_observed',\n",
       "       'co-applicant_race_observed', 'applicant_sex', 'co-applicant_sex',\n",
       "       'applicant_sex_observed', 'co-applicant_sex_observed', 'applicant_age',\n",
       "       'co-applicant_age', 'applicant_age_above_62',\n",
       "       'co-applicant_age_above_62', 'submission_of_application',\n",
       "       'initially_payable_to_institution', 'aus-1', 'aus-2', 'aus-3', 'aus-4',\n",
       "       'aus-5', 'denial_reason-1', 'denial_reason-2', 'denial_reason-3',\n",
       "       'denial_reason-4', 'tract_population',\n",
       "       'tract_minority_population_percent',\n",
       "       'ffiec_msa_md_median_family_income', 'tract_to_msa_income_percentage',\n",
       "       'tract_owner_occupied_units', 'tract_one_to_four_family_homes',\n",
       "       'tract_median_age_of_housing_units'],\n",
       "      dtype='object')"
      ]
     },
     "execution_count": 3,
     "metadata": {},
     "output_type": "execute_result"
    }
   ],
   "source": [
    "df.columns"
   ]
  },
  {
   "cell_type": "markdown",
   "metadata": {},
   "source": [
    "There is a handy glossary on the HMDA site which I used to understand what these labels meant, and what the categorical codes stood for:\n",
    "https://ffiec.cfpb.gov/documentation/2019/lar-data-fields/\n",
    "\n",
    "### Let's explore a sampling of the dataset to see what these entries look like:"
   ]
  },
  {
   "cell_type": "code",
   "execution_count": 4,
   "metadata": {},
   "outputs": [
    {
     "data": {
      "text/html": [
       "<div>\n",
       "<style scoped>\n",
       "    .dataframe tbody tr th:only-of-type {\n",
       "        vertical-align: middle;\n",
       "    }\n",
       "\n",
       "    .dataframe tbody tr th {\n",
       "        vertical-align: top;\n",
       "    }\n",
       "\n",
       "    .dataframe thead th {\n",
       "        text-align: right;\n",
       "    }\n",
       "</style>\n",
       "<table border=\"1\" class=\"dataframe\">\n",
       "  <thead>\n",
       "    <tr style=\"text-align: right;\">\n",
       "      <th></th>\n",
       "      <th>activity_year</th>\n",
       "      <th>lei</th>\n",
       "      <th>derived_msa-md</th>\n",
       "      <th>state_code</th>\n",
       "      <th>county_code</th>\n",
       "      <th>census_tract</th>\n",
       "      <th>conforming_loan_limit</th>\n",
       "      <th>derived_loan_product_type</th>\n",
       "      <th>derived_dwelling_category</th>\n",
       "      <th>derived_ethnicity</th>\n",
       "      <th>derived_race</th>\n",
       "      <th>derived_sex</th>\n",
       "      <th>action_taken</th>\n",
       "      <th>purchaser_type</th>\n",
       "      <th>preapproval</th>\n",
       "      <th>loan_type</th>\n",
       "      <th>loan_purpose</th>\n",
       "      <th>lien_status</th>\n",
       "      <th>reverse_mortgage</th>\n",
       "      <th>open-end_line_of_credit</th>\n",
       "      <th>business_or_commercial_purpose</th>\n",
       "      <th>loan_amount</th>\n",
       "      <th>loan_to_value_ratio</th>\n",
       "      <th>interest_rate</th>\n",
       "      <th>rate_spread</th>\n",
       "      <th>hoepa_status</th>\n",
       "      <th>total_loan_costs</th>\n",
       "      <th>total_points_and_fees</th>\n",
       "      <th>origination_charges</th>\n",
       "      <th>discount_points</th>\n",
       "      <th>lender_credits</th>\n",
       "      <th>loan_term</th>\n",
       "      <th>prepayment_penalty_term</th>\n",
       "      <th>intro_rate_period</th>\n",
       "      <th>negative_amortization</th>\n",
       "      <th>interest_only_payment</th>\n",
       "      <th>balloon_payment</th>\n",
       "      <th>other_nonamortizing_features</th>\n",
       "      <th>property_value</th>\n",
       "      <th>construction_method</th>\n",
       "      <th>occupancy_type</th>\n",
       "      <th>manufactured_home_secured_property_type</th>\n",
       "      <th>manufactured_home_land_property_interest</th>\n",
       "      <th>total_units</th>\n",
       "      <th>multifamily_affordable_units</th>\n",
       "      <th>income</th>\n",
       "      <th>debt_to_income_ratio</th>\n",
       "      <th>applicant_credit_score_type</th>\n",
       "      <th>co-applicant_credit_score_type</th>\n",
       "      <th>applicant_ethnicity-1</th>\n",
       "      <th>applicant_ethnicity-2</th>\n",
       "      <th>applicant_ethnicity-3</th>\n",
       "      <th>applicant_ethnicity-4</th>\n",
       "      <th>applicant_ethnicity-5</th>\n",
       "      <th>co-applicant_ethnicity-1</th>\n",
       "      <th>co-applicant_ethnicity-2</th>\n",
       "      <th>co-applicant_ethnicity-3</th>\n",
       "      <th>co-applicant_ethnicity-4</th>\n",
       "      <th>co-applicant_ethnicity-5</th>\n",
       "      <th>applicant_ethnicity_observed</th>\n",
       "      <th>co-applicant_ethnicity_observed</th>\n",
       "      <th>applicant_race-1</th>\n",
       "      <th>applicant_race-2</th>\n",
       "      <th>applicant_race-3</th>\n",
       "      <th>applicant_race-4</th>\n",
       "      <th>applicant_race-5</th>\n",
       "      <th>co-applicant_race-1</th>\n",
       "      <th>co-applicant_race-2</th>\n",
       "      <th>co-applicant_race-3</th>\n",
       "      <th>co-applicant_race-4</th>\n",
       "      <th>co-applicant_race-5</th>\n",
       "      <th>applicant_race_observed</th>\n",
       "      <th>co-applicant_race_observed</th>\n",
       "      <th>applicant_sex</th>\n",
       "      <th>co-applicant_sex</th>\n",
       "      <th>applicant_sex_observed</th>\n",
       "      <th>co-applicant_sex_observed</th>\n",
       "      <th>applicant_age</th>\n",
       "      <th>co-applicant_age</th>\n",
       "      <th>applicant_age_above_62</th>\n",
       "      <th>co-applicant_age_above_62</th>\n",
       "      <th>submission_of_application</th>\n",
       "      <th>initially_payable_to_institution</th>\n",
       "      <th>aus-1</th>\n",
       "      <th>aus-2</th>\n",
       "      <th>aus-3</th>\n",
       "      <th>aus-4</th>\n",
       "      <th>aus-5</th>\n",
       "      <th>denial_reason-1</th>\n",
       "      <th>denial_reason-2</th>\n",
       "      <th>denial_reason-3</th>\n",
       "      <th>denial_reason-4</th>\n",
       "      <th>tract_population</th>\n",
       "      <th>tract_minority_population_percent</th>\n",
       "      <th>ffiec_msa_md_median_family_income</th>\n",
       "      <th>tract_to_msa_income_percentage</th>\n",
       "      <th>tract_owner_occupied_units</th>\n",
       "      <th>tract_one_to_four_family_homes</th>\n",
       "      <th>tract_median_age_of_housing_units</th>\n",
       "    </tr>\n",
       "  </thead>\n",
       "  <tbody>\n",
       "    <tr>\n",
       "      <th>0</th>\n",
       "      <td>2018</td>\n",
       "      <td>TR24TWEY5RVRQV65HD49</td>\n",
       "      <td>40140</td>\n",
       "      <td>CA</td>\n",
       "      <td>6071</td>\n",
       "      <td>6.071e+09</td>\n",
       "      <td>C</td>\n",
       "      <td>Conventional:Subordinate Lien</td>\n",
       "      <td>Single Family (1-4 Units):Site-Built</td>\n",
       "      <td>Hispanic or Latino</td>\n",
       "      <td>White</td>\n",
       "      <td>Male</td>\n",
       "      <td>3</td>\n",
       "      <td>0</td>\n",
       "      <td>2</td>\n",
       "      <td>1</td>\n",
       "      <td>2</td>\n",
       "      <td>2</td>\n",
       "      <td>2</td>\n",
       "      <td>1</td>\n",
       "      <td>2</td>\n",
       "      <td>25000.0</td>\n",
       "      <td>74.2</td>\n",
       "      <td>NaN</td>\n",
       "      <td>NaN</td>\n",
       "      <td>3</td>\n",
       "      <td>NaN</td>\n",
       "      <td>NaN</td>\n",
       "      <td>NaN</td>\n",
       "      <td>NaN</td>\n",
       "      <td>NaN</td>\n",
       "      <td>360</td>\n",
       "      <td>NaN</td>\n",
       "      <td>1</td>\n",
       "      <td>2</td>\n",
       "      <td>2</td>\n",
       "      <td>2</td>\n",
       "      <td>2</td>\n",
       "      <td>345000</td>\n",
       "      <td>1</td>\n",
       "      <td>1</td>\n",
       "      <td>3</td>\n",
       "      <td>5</td>\n",
       "      <td>1</td>\n",
       "      <td>NaN</td>\n",
       "      <td>71.0</td>\n",
       "      <td>44</td>\n",
       "      <td>7</td>\n",
       "      <td>10</td>\n",
       "      <td>11.0</td>\n",
       "      <td>NaN</td>\n",
       "      <td>NaN</td>\n",
       "      <td>NaN</td>\n",
       "      <td>NaN</td>\n",
       "      <td>5.0</td>\n",
       "      <td>NaN</td>\n",
       "      <td>NaN</td>\n",
       "      <td>NaN</td>\n",
       "      <td>NaN</td>\n",
       "      <td>2</td>\n",
       "      <td>4</td>\n",
       "      <td>5.0</td>\n",
       "      <td>NaN</td>\n",
       "      <td>NaN</td>\n",
       "      <td>NaN</td>\n",
       "      <td>NaN</td>\n",
       "      <td>8.0</td>\n",
       "      <td>NaN</td>\n",
       "      <td>NaN</td>\n",
       "      <td>NaN</td>\n",
       "      <td>NaN</td>\n",
       "      <td>2</td>\n",
       "      <td>4</td>\n",
       "      <td>1</td>\n",
       "      <td>5</td>\n",
       "      <td>2</td>\n",
       "      <td>4</td>\n",
       "      <td>25-34</td>\n",
       "      <td>9999</td>\n",
       "      <td>No</td>\n",
       "      <td>NaN</td>\n",
       "      <td>1</td>\n",
       "      <td>1</td>\n",
       "      <td>6</td>\n",
       "      <td>NaN</td>\n",
       "      <td>NaN</td>\n",
       "      <td>NaN</td>\n",
       "      <td>NaN</td>\n",
       "      <td>9</td>\n",
       "      <td>NaN</td>\n",
       "      <td>NaN</td>\n",
       "      <td>NaN</td>\n",
       "      <td>7800</td>\n",
       "      <td>70.21</td>\n",
       "      <td>65800</td>\n",
       "      <td>114</td>\n",
       "      <td>1433</td>\n",
       "      <td>2096</td>\n",
       "      <td>27</td>\n",
       "    </tr>\n",
       "    <tr>\n",
       "      <th>1</th>\n",
       "      <td>2018</td>\n",
       "      <td>TR24TWEY5RVRQV65HD49</td>\n",
       "      <td>44700</td>\n",
       "      <td>CA</td>\n",
       "      <td>6077</td>\n",
       "      <td>6.077e+09</td>\n",
       "      <td>C</td>\n",
       "      <td>Conventional:Subordinate Lien</td>\n",
       "      <td>Single Family (1-4 Units):Site-Built</td>\n",
       "      <td>Not Hispanic or Latino</td>\n",
       "      <td>Black or African American</td>\n",
       "      <td>Female</td>\n",
       "      <td>3</td>\n",
       "      <td>0</td>\n",
       "      <td>2</td>\n",
       "      <td>1</td>\n",
       "      <td>2</td>\n",
       "      <td>2</td>\n",
       "      <td>2</td>\n",
       "      <td>1</td>\n",
       "      <td>2</td>\n",
       "      <td>35000.0</td>\n",
       "      <td>97.82</td>\n",
       "      <td>NaN</td>\n",
       "      <td>NaN</td>\n",
       "      <td>3</td>\n",
       "      <td>NaN</td>\n",
       "      <td>NaN</td>\n",
       "      <td>NaN</td>\n",
       "      <td>NaN</td>\n",
       "      <td>NaN</td>\n",
       "      <td>360</td>\n",
       "      <td>NaN</td>\n",
       "      <td>1</td>\n",
       "      <td>2</td>\n",
       "      <td>2</td>\n",
       "      <td>2</td>\n",
       "      <td>2</td>\n",
       "      <td>375000</td>\n",
       "      <td>1</td>\n",
       "      <td>1</td>\n",
       "      <td>3</td>\n",
       "      <td>5</td>\n",
       "      <td>1</td>\n",
       "      <td>NaN</td>\n",
       "      <td>102.0</td>\n",
       "      <td>&gt;60%</td>\n",
       "      <td>7</td>\n",
       "      <td>10</td>\n",
       "      <td>2.0</td>\n",
       "      <td>NaN</td>\n",
       "      <td>NaN</td>\n",
       "      <td>NaN</td>\n",
       "      <td>NaN</td>\n",
       "      <td>5.0</td>\n",
       "      <td>NaN</td>\n",
       "      <td>NaN</td>\n",
       "      <td>NaN</td>\n",
       "      <td>NaN</td>\n",
       "      <td>2</td>\n",
       "      <td>4</td>\n",
       "      <td>3.0</td>\n",
       "      <td>NaN</td>\n",
       "      <td>NaN</td>\n",
       "      <td>NaN</td>\n",
       "      <td>NaN</td>\n",
       "      <td>8.0</td>\n",
       "      <td>NaN</td>\n",
       "      <td>NaN</td>\n",
       "      <td>NaN</td>\n",
       "      <td>NaN</td>\n",
       "      <td>2</td>\n",
       "      <td>4</td>\n",
       "      <td>2</td>\n",
       "      <td>5</td>\n",
       "      <td>2</td>\n",
       "      <td>4</td>\n",
       "      <td>35-44</td>\n",
       "      <td>9999</td>\n",
       "      <td>No</td>\n",
       "      <td>NaN</td>\n",
       "      <td>1</td>\n",
       "      <td>1</td>\n",
       "      <td>6</td>\n",
       "      <td>NaN</td>\n",
       "      <td>NaN</td>\n",
       "      <td>NaN</td>\n",
       "      <td>NaN</td>\n",
       "      <td>9</td>\n",
       "      <td>3.0</td>\n",
       "      <td>NaN</td>\n",
       "      <td>NaN</td>\n",
       "      <td>8228</td>\n",
       "      <td>80.40</td>\n",
       "      <td>63700</td>\n",
       "      <td>61</td>\n",
       "      <td>1249</td>\n",
       "      <td>2574</td>\n",
       "      <td>50</td>\n",
       "    </tr>\n",
       "    <tr>\n",
       "      <th>2</th>\n",
       "      <td>2018</td>\n",
       "      <td>TR24TWEY5RVRQV65HD49</td>\n",
       "      <td>31460</td>\n",
       "      <td>CA</td>\n",
       "      <td>6039</td>\n",
       "      <td>6.039e+09</td>\n",
       "      <td>C</td>\n",
       "      <td>Conventional:Subordinate Lien</td>\n",
       "      <td>Single Family (1-4 Units):Site-Built</td>\n",
       "      <td>Ethnicity Not Available</td>\n",
       "      <td>Race Not Available</td>\n",
       "      <td>Sex Not Available</td>\n",
       "      <td>3</td>\n",
       "      <td>0</td>\n",
       "      <td>2</td>\n",
       "      <td>1</td>\n",
       "      <td>4</td>\n",
       "      <td>2</td>\n",
       "      <td>2</td>\n",
       "      <td>1</td>\n",
       "      <td>2</td>\n",
       "      <td>35000.0</td>\n",
       "      <td>74.51</td>\n",
       "      <td>NaN</td>\n",
       "      <td>NaN</td>\n",
       "      <td>3</td>\n",
       "      <td>NaN</td>\n",
       "      <td>NaN</td>\n",
       "      <td>NaN</td>\n",
       "      <td>NaN</td>\n",
       "      <td>NaN</td>\n",
       "      <td>360</td>\n",
       "      <td>NaN</td>\n",
       "      <td>1</td>\n",
       "      <td>2</td>\n",
       "      <td>2</td>\n",
       "      <td>2</td>\n",
       "      <td>2</td>\n",
       "      <td>135000</td>\n",
       "      <td>1</td>\n",
       "      <td>1</td>\n",
       "      <td>3</td>\n",
       "      <td>5</td>\n",
       "      <td>1</td>\n",
       "      <td>NaN</td>\n",
       "      <td>124.0</td>\n",
       "      <td>&lt;20%</td>\n",
       "      <td>7</td>\n",
       "      <td>7</td>\n",
       "      <td>3.0</td>\n",
       "      <td>NaN</td>\n",
       "      <td>NaN</td>\n",
       "      <td>NaN</td>\n",
       "      <td>NaN</td>\n",
       "      <td>1.0</td>\n",
       "      <td>NaN</td>\n",
       "      <td>NaN</td>\n",
       "      <td>NaN</td>\n",
       "      <td>NaN</td>\n",
       "      <td>2</td>\n",
       "      <td>2</td>\n",
       "      <td>6.0</td>\n",
       "      <td>NaN</td>\n",
       "      <td>NaN</td>\n",
       "      <td>NaN</td>\n",
       "      <td>NaN</td>\n",
       "      <td>6.0</td>\n",
       "      <td>NaN</td>\n",
       "      <td>NaN</td>\n",
       "      <td>NaN</td>\n",
       "      <td>NaN</td>\n",
       "      <td>2</td>\n",
       "      <td>2</td>\n",
       "      <td>3</td>\n",
       "      <td>1</td>\n",
       "      <td>2</td>\n",
       "      <td>2</td>\n",
       "      <td>35-44</td>\n",
       "      <td>25-34</td>\n",
       "      <td>No</td>\n",
       "      <td>No</td>\n",
       "      <td>1</td>\n",
       "      <td>1</td>\n",
       "      <td>6</td>\n",
       "      <td>NaN</td>\n",
       "      <td>NaN</td>\n",
       "      <td>NaN</td>\n",
       "      <td>NaN</td>\n",
       "      <td>9</td>\n",
       "      <td>3.0</td>\n",
       "      <td>NaN</td>\n",
       "      <td>NaN</td>\n",
       "      <td>5856</td>\n",
       "      <td>95.59</td>\n",
       "      <td>55200</td>\n",
       "      <td>53</td>\n",
       "      <td>358</td>\n",
       "      <td>1101</td>\n",
       "      <td>33</td>\n",
       "    </tr>\n",
       "    <tr>\n",
       "      <th>3</th>\n",
       "      <td>2018</td>\n",
       "      <td>TR24TWEY5RVRQV65HD49</td>\n",
       "      <td>40900</td>\n",
       "      <td>CA</td>\n",
       "      <td>6067</td>\n",
       "      <td>6.06701e+09</td>\n",
       "      <td>C</td>\n",
       "      <td>Conventional:Subordinate Lien</td>\n",
       "      <td>Single Family (1-4 Units):Site-Built</td>\n",
       "      <td>Ethnicity Not Available</td>\n",
       "      <td>Race Not Available</td>\n",
       "      <td>Sex Not Available</td>\n",
       "      <td>3</td>\n",
       "      <td>0</td>\n",
       "      <td>2</td>\n",
       "      <td>1</td>\n",
       "      <td>4</td>\n",
       "      <td>2</td>\n",
       "      <td>2</td>\n",
       "      <td>1</td>\n",
       "      <td>2</td>\n",
       "      <td>35000.0</td>\n",
       "      <td>79.34</td>\n",
       "      <td>NaN</td>\n",
       "      <td>NaN</td>\n",
       "      <td>3</td>\n",
       "      <td>NaN</td>\n",
       "      <td>NaN</td>\n",
       "      <td>NaN</td>\n",
       "      <td>NaN</td>\n",
       "      <td>NaN</td>\n",
       "      <td>360</td>\n",
       "      <td>NaN</td>\n",
       "      <td>1</td>\n",
       "      <td>2</td>\n",
       "      <td>2</td>\n",
       "      <td>2</td>\n",
       "      <td>2</td>\n",
       "      <td>325000</td>\n",
       "      <td>1</td>\n",
       "      <td>1</td>\n",
       "      <td>3</td>\n",
       "      <td>5</td>\n",
       "      <td>1</td>\n",
       "      <td>NaN</td>\n",
       "      <td>132.0</td>\n",
       "      <td>20%-&lt;30%</td>\n",
       "      <td>7</td>\n",
       "      <td>10</td>\n",
       "      <td>3.0</td>\n",
       "      <td>NaN</td>\n",
       "      <td>NaN</td>\n",
       "      <td>NaN</td>\n",
       "      <td>NaN</td>\n",
       "      <td>5.0</td>\n",
       "      <td>NaN</td>\n",
       "      <td>NaN</td>\n",
       "      <td>NaN</td>\n",
       "      <td>NaN</td>\n",
       "      <td>2</td>\n",
       "      <td>4</td>\n",
       "      <td>6.0</td>\n",
       "      <td>NaN</td>\n",
       "      <td>NaN</td>\n",
       "      <td>NaN</td>\n",
       "      <td>NaN</td>\n",
       "      <td>8.0</td>\n",
       "      <td>NaN</td>\n",
       "      <td>NaN</td>\n",
       "      <td>NaN</td>\n",
       "      <td>NaN</td>\n",
       "      <td>2</td>\n",
       "      <td>4</td>\n",
       "      <td>3</td>\n",
       "      <td>5</td>\n",
       "      <td>2</td>\n",
       "      <td>4</td>\n",
       "      <td>25-34</td>\n",
       "      <td>9999</td>\n",
       "      <td>No</td>\n",
       "      <td>NaN</td>\n",
       "      <td>1</td>\n",
       "      <td>1</td>\n",
       "      <td>6</td>\n",
       "      <td>NaN</td>\n",
       "      <td>NaN</td>\n",
       "      <td>NaN</td>\n",
       "      <td>NaN</td>\n",
       "      <td>9</td>\n",
       "      <td>NaN</td>\n",
       "      <td>NaN</td>\n",
       "      <td>NaN</td>\n",
       "      <td>4905</td>\n",
       "      <td>65.91</td>\n",
       "      <td>80400</td>\n",
       "      <td>97</td>\n",
       "      <td>1042</td>\n",
       "      <td>1432</td>\n",
       "      <td>0</td>\n",
       "    </tr>\n",
       "    <tr>\n",
       "      <th>4</th>\n",
       "      <td>2018</td>\n",
       "      <td>TR24TWEY5RVRQV65HD49</td>\n",
       "      <td>40900</td>\n",
       "      <td>CA</td>\n",
       "      <td>6067</td>\n",
       "      <td>6.06701e+09</td>\n",
       "      <td>C</td>\n",
       "      <td>Conventional:Subordinate Lien</td>\n",
       "      <td>Single Family (1-4 Units):Site-Built</td>\n",
       "      <td>Not Hispanic or Latino</td>\n",
       "      <td>Black or African American</td>\n",
       "      <td>Female</td>\n",
       "      <td>3</td>\n",
       "      <td>0</td>\n",
       "      <td>2</td>\n",
       "      <td>1</td>\n",
       "      <td>2</td>\n",
       "      <td>2</td>\n",
       "      <td>2</td>\n",
       "      <td>1</td>\n",
       "      <td>2</td>\n",
       "      <td>55000.0</td>\n",
       "      <td>71.33</td>\n",
       "      <td>NaN</td>\n",
       "      <td>NaN</td>\n",
       "      <td>3</td>\n",
       "      <td>NaN</td>\n",
       "      <td>NaN</td>\n",
       "      <td>NaN</td>\n",
       "      <td>NaN</td>\n",
       "      <td>NaN</td>\n",
       "      <td>360</td>\n",
       "      <td>NaN</td>\n",
       "      <td>1</td>\n",
       "      <td>2</td>\n",
       "      <td>2</td>\n",
       "      <td>2</td>\n",
       "      <td>2</td>\n",
       "      <td>605000</td>\n",
       "      <td>1</td>\n",
       "      <td>1</td>\n",
       "      <td>3</td>\n",
       "      <td>5</td>\n",
       "      <td>1</td>\n",
       "      <td>NaN</td>\n",
       "      <td>145.0</td>\n",
       "      <td>20%-&lt;30%</td>\n",
       "      <td>7</td>\n",
       "      <td>10</td>\n",
       "      <td>2.0</td>\n",
       "      <td>NaN</td>\n",
       "      <td>NaN</td>\n",
       "      <td>NaN</td>\n",
       "      <td>NaN</td>\n",
       "      <td>5.0</td>\n",
       "      <td>NaN</td>\n",
       "      <td>NaN</td>\n",
       "      <td>NaN</td>\n",
       "      <td>NaN</td>\n",
       "      <td>2</td>\n",
       "      <td>4</td>\n",
       "      <td>3.0</td>\n",
       "      <td>NaN</td>\n",
       "      <td>NaN</td>\n",
       "      <td>NaN</td>\n",
       "      <td>NaN</td>\n",
       "      <td>8.0</td>\n",
       "      <td>NaN</td>\n",
       "      <td>NaN</td>\n",
       "      <td>NaN</td>\n",
       "      <td>NaN</td>\n",
       "      <td>2</td>\n",
       "      <td>4</td>\n",
       "      <td>2</td>\n",
       "      <td>5</td>\n",
       "      <td>2</td>\n",
       "      <td>4</td>\n",
       "      <td>45-54</td>\n",
       "      <td>9999</td>\n",
       "      <td>No</td>\n",
       "      <td>NaN</td>\n",
       "      <td>1</td>\n",
       "      <td>1</td>\n",
       "      <td>6</td>\n",
       "      <td>NaN</td>\n",
       "      <td>NaN</td>\n",
       "      <td>NaN</td>\n",
       "      <td>NaN</td>\n",
       "      <td>9</td>\n",
       "      <td>NaN</td>\n",
       "      <td>NaN</td>\n",
       "      <td>NaN</td>\n",
       "      <td>5080</td>\n",
       "      <td>53.62</td>\n",
       "      <td>80400</td>\n",
       "      <td>161</td>\n",
       "      <td>1343</td>\n",
       "      <td>1481</td>\n",
       "      <td>13</td>\n",
       "    </tr>\n",
       "  </tbody>\n",
       "</table>\n",
       "</div>"
      ],
      "text/plain": [
       "   activity_year                   lei  derived_msa-md state_code county_code  \\\n",
       "0           2018  TR24TWEY5RVRQV65HD49           40140         CA        6071   \n",
       "1           2018  TR24TWEY5RVRQV65HD49           44700         CA        6077   \n",
       "2           2018  TR24TWEY5RVRQV65HD49           31460         CA        6039   \n",
       "3           2018  TR24TWEY5RVRQV65HD49           40900         CA        6067   \n",
       "4           2018  TR24TWEY5RVRQV65HD49           40900         CA        6067   \n",
       "\n",
       "  census_tract conforming_loan_limit      derived_loan_product_type  \\\n",
       "0    6.071e+09                     C  Conventional:Subordinate Lien   \n",
       "1    6.077e+09                     C  Conventional:Subordinate Lien   \n",
       "2    6.039e+09                     C  Conventional:Subordinate Lien   \n",
       "3  6.06701e+09                     C  Conventional:Subordinate Lien   \n",
       "4  6.06701e+09                     C  Conventional:Subordinate Lien   \n",
       "\n",
       "              derived_dwelling_category        derived_ethnicity  \\\n",
       "0  Single Family (1-4 Units):Site-Built       Hispanic or Latino   \n",
       "1  Single Family (1-4 Units):Site-Built   Not Hispanic or Latino   \n",
       "2  Single Family (1-4 Units):Site-Built  Ethnicity Not Available   \n",
       "3  Single Family (1-4 Units):Site-Built  Ethnicity Not Available   \n",
       "4  Single Family (1-4 Units):Site-Built   Not Hispanic or Latino   \n",
       "\n",
       "                derived_race        derived_sex  action_taken  purchaser_type  \\\n",
       "0                      White               Male             3               0   \n",
       "1  Black or African American             Female             3               0   \n",
       "2         Race Not Available  Sex Not Available             3               0   \n",
       "3         Race Not Available  Sex Not Available             3               0   \n",
       "4  Black or African American             Female             3               0   \n",
       "\n",
       "   preapproval  loan_type  loan_purpose  lien_status  reverse_mortgage  \\\n",
       "0            2          1             2            2                 2   \n",
       "1            2          1             2            2                 2   \n",
       "2            2          1             4            2                 2   \n",
       "3            2          1             4            2                 2   \n",
       "4            2          1             2            2                 2   \n",
       "\n",
       "   open-end_line_of_credit  business_or_commercial_purpose  loan_amount  \\\n",
       "0                        1                               2      25000.0   \n",
       "1                        1                               2      35000.0   \n",
       "2                        1                               2      35000.0   \n",
       "3                        1                               2      35000.0   \n",
       "4                        1                               2      55000.0   \n",
       "\n",
       "  loan_to_value_ratio interest_rate rate_spread  hoepa_status  \\\n",
       "0                74.2           NaN         NaN             3   \n",
       "1               97.82           NaN         NaN             3   \n",
       "2               74.51           NaN         NaN             3   \n",
       "3               79.34           NaN         NaN             3   \n",
       "4               71.33           NaN         NaN             3   \n",
       "\n",
       "  total_loan_costs total_points_and_fees origination_charges discount_points  \\\n",
       "0              NaN                   NaN                 NaN             NaN   \n",
       "1              NaN                   NaN                 NaN             NaN   \n",
       "2              NaN                   NaN                 NaN             NaN   \n",
       "3              NaN                   NaN                 NaN             NaN   \n",
       "4              NaN                   NaN                 NaN             NaN   \n",
       "\n",
       "  lender_credits loan_term prepayment_penalty_term intro_rate_period  \\\n",
       "0            NaN       360                     NaN                 1   \n",
       "1            NaN       360                     NaN                 1   \n",
       "2            NaN       360                     NaN                 1   \n",
       "3            NaN       360                     NaN                 1   \n",
       "4            NaN       360                     NaN                 1   \n",
       "\n",
       "   negative_amortization  interest_only_payment  balloon_payment  \\\n",
       "0                      2                      2                2   \n",
       "1                      2                      2                2   \n",
       "2                      2                      2                2   \n",
       "3                      2                      2                2   \n",
       "4                      2                      2                2   \n",
       "\n",
       "   other_nonamortizing_features property_value  construction_method  \\\n",
       "0                             2         345000                    1   \n",
       "1                             2         375000                    1   \n",
       "2                             2         135000                    1   \n",
       "3                             2         325000                    1   \n",
       "4                             2         605000                    1   \n",
       "\n",
       "   occupancy_type  manufactured_home_secured_property_type  \\\n",
       "0               1                                        3   \n",
       "1               1                                        3   \n",
       "2               1                                        3   \n",
       "3               1                                        3   \n",
       "4               1                                        3   \n",
       "\n",
       "   manufactured_home_land_property_interest total_units  \\\n",
       "0                                         5           1   \n",
       "1                                         5           1   \n",
       "2                                         5           1   \n",
       "3                                         5           1   \n",
       "4                                         5           1   \n",
       "\n",
       "  multifamily_affordable_units  income debt_to_income_ratio  \\\n",
       "0                          NaN    71.0                   44   \n",
       "1                          NaN   102.0                 >60%   \n",
       "2                          NaN   124.0                 <20%   \n",
       "3                          NaN   132.0             20%-<30%   \n",
       "4                          NaN   145.0             20%-<30%   \n",
       "\n",
       "   applicant_credit_score_type  co-applicant_credit_score_type  \\\n",
       "0                            7                              10   \n",
       "1                            7                              10   \n",
       "2                            7                               7   \n",
       "3                            7                              10   \n",
       "4                            7                              10   \n",
       "\n",
       "   applicant_ethnicity-1  applicant_ethnicity-2  applicant_ethnicity-3  \\\n",
       "0                   11.0                    NaN                    NaN   \n",
       "1                    2.0                    NaN                    NaN   \n",
       "2                    3.0                    NaN                    NaN   \n",
       "3                    3.0                    NaN                    NaN   \n",
       "4                    2.0                    NaN                    NaN   \n",
       "\n",
       "   applicant_ethnicity-4  applicant_ethnicity-5  co-applicant_ethnicity-1  \\\n",
       "0                    NaN                    NaN                       5.0   \n",
       "1                    NaN                    NaN                       5.0   \n",
       "2                    NaN                    NaN                       1.0   \n",
       "3                    NaN                    NaN                       5.0   \n",
       "4                    NaN                    NaN                       5.0   \n",
       "\n",
       "   co-applicant_ethnicity-2  co-applicant_ethnicity-3  \\\n",
       "0                       NaN                       NaN   \n",
       "1                       NaN                       NaN   \n",
       "2                       NaN                       NaN   \n",
       "3                       NaN                       NaN   \n",
       "4                       NaN                       NaN   \n",
       "\n",
       "   co-applicant_ethnicity-4  co-applicant_ethnicity-5  \\\n",
       "0                       NaN                       NaN   \n",
       "1                       NaN                       NaN   \n",
       "2                       NaN                       NaN   \n",
       "3                       NaN                       NaN   \n",
       "4                       NaN                       NaN   \n",
       "\n",
       "   applicant_ethnicity_observed  co-applicant_ethnicity_observed  \\\n",
       "0                             2                                4   \n",
       "1                             2                                4   \n",
       "2                             2                                2   \n",
       "3                             2                                4   \n",
       "4                             2                                4   \n",
       "\n",
       "   applicant_race-1  applicant_race-2  applicant_race-3  applicant_race-4  \\\n",
       "0               5.0               NaN               NaN               NaN   \n",
       "1               3.0               NaN               NaN               NaN   \n",
       "2               6.0               NaN               NaN               NaN   \n",
       "3               6.0               NaN               NaN               NaN   \n",
       "4               3.0               NaN               NaN               NaN   \n",
       "\n",
       "   applicant_race-5  co-applicant_race-1  co-applicant_race-2  \\\n",
       "0               NaN                  8.0                  NaN   \n",
       "1               NaN                  8.0                  NaN   \n",
       "2               NaN                  6.0                  NaN   \n",
       "3               NaN                  8.0                  NaN   \n",
       "4               NaN                  8.0                  NaN   \n",
       "\n",
       "   co-applicant_race-3  co-applicant_race-4  co-applicant_race-5  \\\n",
       "0                  NaN                  NaN                  NaN   \n",
       "1                  NaN                  NaN                  NaN   \n",
       "2                  NaN                  NaN                  NaN   \n",
       "3                  NaN                  NaN                  NaN   \n",
       "4                  NaN                  NaN                  NaN   \n",
       "\n",
       "   applicant_race_observed  co-applicant_race_observed  applicant_sex  \\\n",
       "0                        2                           4              1   \n",
       "1                        2                           4              2   \n",
       "2                        2                           2              3   \n",
       "3                        2                           4              3   \n",
       "4                        2                           4              2   \n",
       "\n",
       "   co-applicant_sex  applicant_sex_observed  co-applicant_sex_observed  \\\n",
       "0                 5                       2                          4   \n",
       "1                 5                       2                          4   \n",
       "2                 1                       2                          2   \n",
       "3                 5                       2                          4   \n",
       "4                 5                       2                          4   \n",
       "\n",
       "  applicant_age co-applicant_age applicant_age_above_62  \\\n",
       "0         25-34             9999                     No   \n",
       "1         35-44             9999                     No   \n",
       "2         35-44            25-34                     No   \n",
       "3         25-34             9999                     No   \n",
       "4         45-54             9999                     No   \n",
       "\n",
       "  co-applicant_age_above_62  submission_of_application  \\\n",
       "0                       NaN                          1   \n",
       "1                       NaN                          1   \n",
       "2                        No                          1   \n",
       "3                       NaN                          1   \n",
       "4                       NaN                          1   \n",
       "\n",
       "   initially_payable_to_institution  aus-1  aus-2  aus-3  aus-4  aus-5  \\\n",
       "0                                 1      6    NaN    NaN    NaN    NaN   \n",
       "1                                 1      6    NaN    NaN    NaN    NaN   \n",
       "2                                 1      6    NaN    NaN    NaN    NaN   \n",
       "3                                 1      6    NaN    NaN    NaN    NaN   \n",
       "4                                 1      6    NaN    NaN    NaN    NaN   \n",
       "\n",
       "   denial_reason-1  denial_reason-2  denial_reason-3  denial_reason-4  \\\n",
       "0                9              NaN              NaN              NaN   \n",
       "1                9              3.0              NaN              NaN   \n",
       "2                9              3.0              NaN              NaN   \n",
       "3                9              NaN              NaN              NaN   \n",
       "4                9              NaN              NaN              NaN   \n",
       "\n",
       "   tract_population  tract_minority_population_percent  \\\n",
       "0              7800                              70.21   \n",
       "1              8228                              80.40   \n",
       "2              5856                              95.59   \n",
       "3              4905                              65.91   \n",
       "4              5080                              53.62   \n",
       "\n",
       "   ffiec_msa_md_median_family_income  tract_to_msa_income_percentage  \\\n",
       "0                              65800                             114   \n",
       "1                              63700                              61   \n",
       "2                              55200                              53   \n",
       "3                              80400                              97   \n",
       "4                              80400                             161   \n",
       "\n",
       "   tract_owner_occupied_units  tract_one_to_four_family_homes  \\\n",
       "0                        1433                            2096   \n",
       "1                        1249                            2574   \n",
       "2                         358                            1101   \n",
       "3                        1042                            1432   \n",
       "4                        1343                            1481   \n",
       "\n",
       "   tract_median_age_of_housing_units  \n",
       "0                                 27  \n",
       "1                                 50  \n",
       "2                                 33  \n",
       "3                                  0  \n",
       "4                                 13  "
      ]
     },
     "execution_count": 4,
     "metadata": {},
     "output_type": "execute_result"
    }
   ],
   "source": [
    "df.head()"
   ]
  },
  {
   "cell_type": "markdown",
   "metadata": {},
   "source": [
    "## Cleaning the dataset\n",
    "\n",
    "There are quite a few columns and categories that I am not interested in to start out with. We have to keep in mind that this prediction would be used once a consumer provides minimal information, and are looking to purchase or refinance a residential property. The information we would have initially from the client includes:\n",
    "- client address, \n",
    "- an approximate income, \n",
    "- total existing debt balances and payments, \n",
    "- occupancy (primary, second or investment), \n",
    "- loan purpose (purchase or refinance), \n",
    "- lien status (applying for a 1st or 2nd mortgage),\n",
    "\n",
    "and there could be more we can extrapolate or information we can ask of the client if there end up being important features aside from these.\n",
    "\n",
    "This loan type prediction would ultimately come before pricing out rate or term information, so that won't be an input to the model. Also, we don't initially know the race, ethnicity, age or sex information so that will be dropped for now. I will likely over-simplify the input values in the model at first to see how the simple model runs, and may add attributes back in if I see how to gather that information from a client initially.\n",
    "\n",
    "From industry knowledge, I know the debt-to-income (DTI) ratio is going to be a good distinguishing factor, so I am going to drop the rows which do not have that information present. (I could fill this with an average value, but since we have over 1.6M entries in the dataset and only 12,723 have an \"Exempt\" value for DTI, I will just drop.)\n",
    "\n",
    "We also don't want reverse or business/commercial loans included as this is strictly a model for residential amortizing mortgages."
   ]
  },
  {
   "cell_type": "code",
   "execution_count": 5,
   "metadata": {},
   "outputs": [
    {
     "data": {
      "text/plain": [
       "12723"
      ]
     },
     "execution_count": 5,
     "metadata": {},
     "output_type": "execute_result"
    }
   ],
   "source": [
    "len(df[df.debt_to_income_ratio=='Exempt'])"
   ]
  },
  {
   "cell_type": "code",
   "execution_count": 6,
   "metadata": {},
   "outputs": [],
   "source": [
    "df.drop(['action_taken','derived_loan_product_type','hoepa_status','purchaser_type','derived_msa-md','multifamily_affordable_units', 'intro_rate_period', 'prepayment_penalty_term','loan_term',\n",
    "         'lender_credits', 'discount_points','total_points_and_fees','total_loan_costs','activity_year','lei', 'state_code', 'census_tract', 'county_code', 'other_nonamortizing_features',\n",
    "         'derived_ethnicity', 'derived_race','derived_sex', 'applicant_ethnicity-1','applicant_ethnicity-2','applicant_ethnicity-3','applicant_ethnicity-4','applicant_ethnicity-5',\n",
    "        'co-applicant_ethnicity-1','co-applicant_ethnicity-2','co-applicant_ethnicity-3','co-applicant_ethnicity-4','co-applicant_ethnicity-5',\n",
    "        'applicant_ethnicity_observed', 'co-applicant_ethnicity_observed', 'applicant_race-1','applicant_race-2','applicant_race-3',\n",
    "        'applicant_race-4','applicant_race-5','co-applicant_race-1','co-applicant_race-2','co-applicant_race-3','co-applicant_race-4',\n",
    "        'co-applicant_race-5','applicant_race_observed','co-applicant_race_observed','applicant_sex', 'co-applicant_sex',\n",
    "        'applicant_sex_observed', 'co-applicant_sex_observed', 'applicant_age', 'co-applicant_age','applicant_age_above_62',\n",
    "        'co-applicant_age_above_62', 'submission_of_application', 'initially_payable_to_institution', 'aus-1','aus-2','aus-3',\n",
    "        'aus-4','aus-5','denial_reason-1','denial_reason-2','denial_reason-3','denial_reason-4','ffiec_msa_md_median_family_income','loan_to_value_ratio', 'interest_rate', 'rate_spread', \n",
    "         'origination_charges', 'property_value'],axis=1,inplace=True)\n",
    "\n"
   ]
  },
  {
   "cell_type": "code",
   "execution_count": 7,
   "metadata": {},
   "outputs": [
    {
     "data": {
      "text/plain": [
       "5       1656002\n",
       "1111      15092\n",
       "3         15042\n",
       "1         12886\n",
       "4           371\n",
       "2           346\n",
       "Name: manufactured_home_land_property_interest, dtype: int64"
      ]
     },
     "execution_count": 7,
     "metadata": {},
     "output_type": "execute_result"
    }
   ],
   "source": [
    "df.manufactured_home_land_property_interest.value_counts()\n",
    "#Here we see most values are \"Not Applicable (5)\" and \"Exempt (1111)\" so this doesn't really add much info\n",
    "# ...We will get rid of the uncommon land property interests and then get rid of this attribute to clean up"
   ]
  },
  {
   "cell_type": "code",
   "execution_count": 8,
   "metadata": {},
   "outputs": [],
   "source": [
    "#Getting rid of reverse_mortgage values of \"Reverse Mortgage (1)\" and \"Exempt (1111)\"\n",
    "df.drop(df[df.reverse_mortgage==1].index, axis=0, inplace=True)\n",
    "df.drop(df[df.reverse_mortgage==1111].index, axis=0, inplace=True)\n",
    "\n",
    "#Getting rid of business_or_commercial_purpose values of \"Primarily for a business or commercial purpose (1)\" and \"Exempt (1111)\"\n",
    "df.drop(df[df.business_or_commercial_purpose==1].index, axis=0, inplace=True)\n",
    "df.drop(df[df.business_or_commercial_purpose==1111].index, axis=0, inplace=True)\n",
    "\n",
    "#Here I drop property_interest of \"Indirect Ownership (2)\" and \"Unpaid Leasehold (4)\" to clean up attribute\n",
    "df.drop(df[df.manufactured_home_land_property_interest==2].index, axis=0, inplace=True)\n",
    "df.drop(df[df.manufactured_home_land_property_interest==4].index, axis=0, inplace=True)\n",
    "\n",
    "df.drop(df[df.debt_to_income_ratio=='Exempt'].index, axis=0, inplace=True)\n",
    "\n",
    "#Just keeping Conventional (1) and FHA (2) mortgages\n",
    "df.drop(df[df.loan_type==3].index, axis=0, inplace=True)\n",
    "df.drop(df[df.loan_type==4].index, axis=0, inplace=True)"
   ]
  },
  {
   "cell_type": "code",
   "execution_count": 9,
   "metadata": {},
   "outputs": [],
   "source": [
    "df.drop(['reverse_mortgage','business_or_commercial_purpose','manufactured_home_land_property_interest',\n",
    "         'open-end_line_of_credit','derived_dwelling_category','manufactured_home_secured_property_type',\n",
    "       'manufactured_home_land_property_interest','co-applicant_credit_score_type','applicant_credit_score_type'],axis=1,inplace=True)"
   ]
  },
  {
   "cell_type": "markdown",
   "metadata": {},
   "source": [
    "#### For the columns that are left, let's see which ones have null values:"
   ]
  },
  {
   "cell_type": "code",
   "execution_count": 10,
   "metadata": {},
   "outputs": [
    {
     "name": "stdout",
     "output_type": "stream",
     "text": [
      "127 conforming_loan_limit <class 'str'>\n",
      "0 preapproval <class 'numpy.int64'>\n",
      "0 loan_type <class 'numpy.int64'>\n",
      "0 loan_purpose <class 'numpy.int64'>\n",
      "0 lien_status <class 'numpy.int64'>\n",
      "0 loan_amount <class 'numpy.float64'>\n",
      "0 negative_amortization <class 'numpy.int64'>\n",
      "0 interest_only_payment <class 'numpy.int64'>\n",
      "0 balloon_payment <class 'numpy.int64'>\n",
      "0 construction_method <class 'numpy.int64'>\n",
      "0 occupancy_type <class 'numpy.int64'>\n",
      "0 total_units <class 'str'>\n",
      "124537 income <class 'numpy.float64'>\n",
      "470866 debt_to_income_ratio <class 'str'>\n",
      "0 tract_population <class 'numpy.int64'>\n",
      "0 tract_minority_population_percent <class 'numpy.float64'>\n",
      "0 tract_to_msa_income_percentage <class 'numpy.int64'>\n",
      "0 tract_owner_occupied_units <class 'numpy.int64'>\n",
      "0 tract_one_to_four_family_homes <class 'numpy.int64'>\n",
      "0 tract_median_age_of_housing_units <class 'numpy.int64'>\n"
     ]
    }
   ],
   "source": [
    "for i in df.columns:\n",
    "    print(df[i].isna().sum(), i, type(df[i][0]))"
   ]
  },
  {
   "cell_type": "markdown",
   "metadata": {},
   "source": [
    "#### Missing DTI and Income\n",
    "\n",
    "I was curious to see if the missing income values were also entries that had DTI missing since they are related attributes."
   ]
  },
  {
   "cell_type": "code",
   "execution_count": 11,
   "metadata": {},
   "outputs": [
    {
     "name": "stdout",
     "output_type": "stream",
     "text": [
      "No, list is not subset of other.\n"
     ]
    }
   ],
   "source": [
    "#creating lists of indices\n",
    "income_na_index = df[df.income.isna()==True].index.tolist()\n",
    "debt_to_income_ratio_na_index = df[df.debt_to_income_ratio.isna()==True].index.tolist()\n",
    "\n",
    "# using all() to check subset of list  \n",
    "flag = 0\n",
    "if(all(x in debt_to_income_ratio_na_index for x in income_na_index)): \n",
    "    flag = 1\n",
    "      \n",
    "# printing result \n",
    "if (flag) : \n",
    "    print (\"Yes, list is subset of other.\") \n",
    "else : \n",
    "    print (\"No, list is not subset of other.\") "
   ]
  },
  {
   "cell_type": "markdown",
   "metadata": {},
   "source": [
    "In this case, though it gets rid of a lot of entries to drop the empty rows of DTI and Income, we will still have a lot of entries left over to train and test on, and  the DTI info will be a crucial piece of consumer information to know. \n",
    "\n",
    "**I could later come back to this and fill in an average value instead, though since the DTI entries are not continuous and already binned, I would have to think through how to do that."
   ]
  },
  {
   "cell_type": "code",
   "execution_count": 12,
   "metadata": {},
   "outputs": [
    {
     "data": {
      "text/plain": [
       "1010038"
      ]
     },
     "execution_count": 12,
     "metadata": {},
     "output_type": "execute_result"
    }
   ],
   "source": [
    "#Drop entries where DTI is null\n",
    "df = df.drop(df[df.debt_to_income_ratio.isna()==True].index)\n",
    "#Drop entries where income is null\n",
    "df = df.drop(df[df.income.isna()==True].index)\n",
    "#Drop entries where conforming_loan_limit is null\n",
    "df = df.drop(df[df.conforming_loan_limit.isna()==True].index)\n",
    "len(df)"
   ]
  },
  {
   "cell_type": "code",
   "execution_count": 13,
   "metadata": {},
   "outputs": [
    {
     "data": {
      "text/plain": [
       "Index(['conforming_loan_limit', 'preapproval', 'loan_type', 'loan_purpose',\n",
       "       'lien_status', 'loan_amount', 'negative_amortization',\n",
       "       'interest_only_payment', 'balloon_payment', 'construction_method',\n",
       "       'occupancy_type', 'total_units', 'income', 'debt_to_income_ratio',\n",
       "       'tract_population', 'tract_minority_population_percent',\n",
       "       'tract_to_msa_income_percentage', 'tract_owner_occupied_units',\n",
       "       'tract_one_to_four_family_homes', 'tract_median_age_of_housing_units'],\n",
       "      dtype='object')"
      ]
     },
     "execution_count": 13,
     "metadata": {},
     "output_type": "execute_result"
    }
   ],
   "source": [
    "df.columns"
   ]
  },
  {
   "cell_type": "markdown",
   "metadata": {},
   "source": [
    "I have considerably trimmed down the attributes, but I believe a lot of these values would be attainable either directly or indirectly making some assumptions about the consumer. Now I will go through each attribute and check out the distribution of data in each to see if there is anything else we can clean up."
   ]
  },
  {
   "cell_type": "markdown",
   "metadata": {},
   "source": [
    "### conforming_loan_limit\n",
    "\n",
    "Description: Indicates whether the reported loan amount exceeds the GSE (government sponsored enterprise) conforming loan limit\n",
    "Values:\n",
    "- C (Conforming)\n",
    "- NC (Nonconforming)\n",
    "- U (Undetermined)\n",
    "- NA (Not Applicable)\n",
    "Here we see that only 83 entries are Undetermined, and we have no NA values. I will get rid of the 83 entries to keep this simple."
   ]
  },
  {
   "cell_type": "code",
   "execution_count": 14,
   "metadata": {},
   "outputs": [
    {
     "data": {
      "text/plain": [
       "C     880799\n",
       "NC    129156\n",
       "U         83\n",
       "Name: conforming_loan_limit, dtype: int64"
      ]
     },
     "execution_count": 14,
     "metadata": {},
     "output_type": "execute_result"
    }
   ],
   "source": [
    "df.conforming_loan_limit.value_counts()"
   ]
  },
  {
   "cell_type": "code",
   "execution_count": 15,
   "metadata": {},
   "outputs": [],
   "source": [
    "df.loc[df['conforming_loan_limit'] == 'C', 'conforming_loan_limit'] = 1\n",
    "df.loc[df['conforming_loan_limit'] == 'NC', 'conforming_loan_limit'] = 2\n",
    "df = df.drop(df[df.conforming_loan_limit=='U'].index)"
   ]
  },
  {
   "cell_type": "markdown",
   "metadata": {},
   "source": [
    "### preapproval\n",
    "\n",
    "Description: Whether the covered loan or application involved a request for a preapproval of a home purchase loan under a preapproval program\n",
    "Values:\n",
    "- 1 - Preapproval requested\n",
    "- 2 - Preapproval not requested\n",
    "\n",
    "Though most data fall into the second category, I don't think this is going to impact much in the model. This may also be an ambiguous data point, because when we look at loan_purpose we will see that there are much more than 25,249 entries corresponding to purchases.\n",
    "\n",
    "##### Might look at getting rid of this attribute altogether to see if it improves the model."
   ]
  },
  {
   "cell_type": "code",
   "execution_count": 16,
   "metadata": {},
   "outputs": [
    {
     "data": {
      "text/plain": [
       "2    984706\n",
       "1     25249\n",
       "Name: preapproval, dtype: int64"
      ]
     },
     "execution_count": 16,
     "metadata": {},
     "output_type": "execute_result"
    }
   ],
   "source": [
    "df.preapproval.value_counts()"
   ]
  },
  {
   "cell_type": "markdown",
   "metadata": {},
   "source": [
    "### loan_purpose\n",
    "\n",
    "Description: The purpose of covered loan or application\n",
    "Values:\n",
    "- 1 - Home purchase\n",
    "- 2 - Home improvement\n",
    "- 31 - Refinancing\n",
    "- 32 - Cash-out refinancing\n",
    "- 4 - Other purpose\n",
    "- 5 - Not applicable\n",
    "\n",
    "The data is pretty evenly spread through these loan purposes, but I will get rid of the extraneous data that fall under Not Applicable."
   ]
  },
  {
   "cell_type": "code",
   "execution_count": 17,
   "metadata": {},
   "outputs": [
    {
     "data": {
      "text/plain": [
       "1     386104\n",
       "32    231049\n",
       "31    161258\n",
       "2     120997\n",
       "4     110306\n",
       "5        241\n",
       "Name: loan_purpose, dtype: int64"
      ]
     },
     "execution_count": 17,
     "metadata": {},
     "output_type": "execute_result"
    }
   ],
   "source": [
    "df.loan_purpose.value_counts()"
   ]
  },
  {
   "cell_type": "code",
   "execution_count": 18,
   "metadata": {},
   "outputs": [],
   "source": [
    "#Getting rid of N/A purpose\n",
    "df = df.drop(df[df.loan_purpose==5].index)"
   ]
  },
  {
   "cell_type": "markdown",
   "metadata": {},
   "source": [
    "### lien_status\n",
    "\n",
    "Description: Lien status of the property securing the covered loan, or in the case of an application, proposed to secure the covered loan\n",
    "Values:\n",
    "- 1 - Secured by a first lien\n",
    "- 2 - Secured by a subordinate lien"
   ]
  },
  {
   "cell_type": "code",
   "execution_count": 19,
   "metadata": {},
   "outputs": [
    {
     "data": {
      "text/plain": [
       "1    751972\n",
       "2    257742\n",
       "Name: lien_status, dtype: int64"
      ]
     },
     "execution_count": 19,
     "metadata": {},
     "output_type": "execute_result"
    }
   ],
   "source": [
    "df.lien_status.value_counts()"
   ]
  },
  {
   "cell_type": "markdown",
   "metadata": {},
   "source": [
    "### negative_amortization\n",
    "\n",
    "Description: Whether the contractual terms include, or would have included, a term that would cause the covered loan to be a negative amortization loan\n",
    "Values:\n",
    "- 1 - Negative amortization\n",
    "- 2 - No negative amortization\n",
    "- 1111 - Exempt\n",
    "\n",
    "Will get rid of Exempt and loans with Negative amortization, and then get rid of this attribute. Negative amortization loans are not common since mortgage reform, and would only be one-off Non-QM loans."
   ]
  },
  {
   "cell_type": "code",
   "execution_count": 20,
   "metadata": {},
   "outputs": [
    {
     "data": {
      "text/plain": [
       "2       1009123\n",
       "1111        526\n",
       "1            65\n",
       "Name: negative_amortization, dtype: int64"
      ]
     },
     "execution_count": 20,
     "metadata": {},
     "output_type": "execute_result"
    }
   ],
   "source": [
    "df.negative_amortization.value_counts()"
   ]
  },
  {
   "cell_type": "code",
   "execution_count": 21,
   "metadata": {},
   "outputs": [],
   "source": [
    "df = df.drop(df[df.negative_amortization==1].index)\n",
    "df = df.drop(df[df.negative_amortization==1111].index)\n",
    "df.drop('negative_amortization',axis=1,inplace=True)"
   ]
  },
  {
   "cell_type": "markdown",
   "metadata": {},
   "source": [
    "### interest_only_payment\n",
    "\n",
    "Description: Whether the contractual terms include, or would have included, interest-only payments\n",
    "Values:\n",
    "- 1 - Interest-only payments\n",
    "- 2 - No interest-only payments\n",
    "- 1111 - Exempt\n",
    "\n",
    "It is still somewhat common for a loan to have some interest-only portion within the term, and I don't see any \"Exempt\" entries, so I will leave this alone."
   ]
  },
  {
   "cell_type": "code",
   "execution_count": 22,
   "metadata": {},
   "outputs": [
    {
     "data": {
      "text/plain": [
       "2    902708\n",
       "1    106415\n",
       "Name: interest_only_payment, dtype: int64"
      ]
     },
     "execution_count": 22,
     "metadata": {},
     "output_type": "execute_result"
    }
   ],
   "source": [
    "df.interest_only_payment.value_counts()"
   ]
  },
  {
   "cell_type": "markdown",
   "metadata": {},
   "source": [
    "### balloon_payment\n",
    "\n",
    "Description: Whether the contractual terms include, or would have included, a balloon payment\n",
    "Values:\n",
    "- 1 - Balloon payment\n",
    "- 2 - No balloon payment\n",
    "- 1111 - Exempt\n",
    "\n",
    "Balloon payments are not very common anymore since mortgage reform, and there aren't many values with it in the dataset. \n"
   ]
  },
  {
   "cell_type": "code",
   "execution_count": 23,
   "metadata": {},
   "outputs": [
    {
     "data": {
      "text/plain": [
       "2    999322\n",
       "1      9801\n",
       "Name: balloon_payment, dtype: int64"
      ]
     },
     "execution_count": 23,
     "metadata": {},
     "output_type": "execute_result"
    }
   ],
   "source": [
    "df.balloon_payment.value_counts()"
   ]
  },
  {
   "cell_type": "code",
   "execution_count": 24,
   "metadata": {},
   "outputs": [],
   "source": [
    "#df = df.drop(df[df.balloon_payment==1].index)\n",
    "#df.drop('balloon_payment',axis=1,inplace=True)"
   ]
  },
  {
   "cell_type": "markdown",
   "metadata": {},
   "source": [
    "### construction_method\n",
    "\n",
    "Description: Construction method for the dwelling\n",
    "Values:\n",
    "- 1 - Site-built\n",
    "- 2 - Manufactured home\n",
    "\n",
    "There aren't many manufactured homes in the dataset, but I'm just going to keep them since this is still something I see people interested in."
   ]
  },
  {
   "cell_type": "code",
   "execution_count": 25,
   "metadata": {},
   "outputs": [
    {
     "data": {
      "text/plain": [
       "1    989862\n",
       "2     19261\n",
       "Name: construction_method, dtype: int64"
      ]
     },
     "execution_count": 25,
     "metadata": {},
     "output_type": "execute_result"
    }
   ],
   "source": [
    "df.construction_method.value_counts()"
   ]
  },
  {
   "cell_type": "code",
   "execution_count": null,
   "metadata": {},
   "outputs": [],
   "source": []
  },
  {
   "cell_type": "markdown",
   "metadata": {},
   "source": [
    "### occupancy_type\n",
    "\n",
    "Description: Occupancy type for the dwelling\n",
    "Values:\n",
    "- 1 - Principal residence\n",
    "- 2 - Second residence\n",
    "- 3 - Investment property\n",
    "\n",
    "I will leave this attribute as-is"
   ]
  },
  {
   "cell_type": "code",
   "execution_count": 26,
   "metadata": {},
   "outputs": [
    {
     "data": {
      "text/plain": [
       "1    930403\n",
       "3     50150\n",
       "2     28570\n",
       "Name: occupancy_type, dtype: int64"
      ]
     },
     "execution_count": 26,
     "metadata": {},
     "output_type": "execute_result"
    }
   ],
   "source": [
    "df.occupancy_type.value_counts()"
   ]
  },
  {
   "cell_type": "code",
   "execution_count": 27,
   "metadata": {},
   "outputs": [
    {
     "data": {
      "text/plain": [
       "1    50077\n",
       "2       73\n",
       "Name: loan_type, dtype: int64"
      ]
     },
     "execution_count": 27,
     "metadata": {},
     "output_type": "execute_result"
    }
   ],
   "source": [
    "#Counting the number of loans of each type that are Investment properties. \n",
    "#Apparently 36 of the entries are investment and FHA...\n",
    "df[df.occupancy_type==3].loan_type.value_counts()"
   ]
  },
  {
   "cell_type": "code",
   "execution_count": 28,
   "metadata": {},
   "outputs": [
    {
     "name": "stderr",
     "output_type": "stream",
     "text": [
      "/anaconda3/lib/python3.7/site-packages/ipykernel_launcher.py:2: UserWarning: Boolean Series key will be reindexed to match DataFrame index.\n",
      "  \n"
     ]
    },
    {
     "data": {
      "text/plain": [
       "1     42\n",
       "31    14\n",
       "32    12\n",
       "2      4\n",
       "4      1\n",
       "Name: loan_purpose, dtype: int64"
      ]
     },
     "execution_count": 28,
     "metadata": {},
     "output_type": "execute_result"
    }
   ],
   "source": [
    "#Counting these 36 values according to loan_purpose (purchase/refi/cashout/homeimprovement)\n",
    "df[df.occupancy_type==3][df.loan_type==2].loan_purpose.value_counts()"
   ]
  },
  {
   "cell_type": "code",
   "execution_count": 29,
   "metadata": {},
   "outputs": [
    {
     "name": "stderr",
     "output_type": "stream",
     "text": [
      "/anaconda3/lib/python3.7/site-packages/ipykernel_launcher.py:2: UserWarning: Boolean Series key will be reindexed to match DataFrame index.\n",
      "  \n"
     ]
    },
    {
     "data": {
      "text/plain": [
       "1    56\n",
       "1    13\n",
       "4     2\n",
       "3     1\n",
       "2     1\n",
       "Name: total_units, dtype: int64"
      ]
     },
     "execution_count": 29,
     "metadata": {},
     "output_type": "execute_result"
    }
   ],
   "source": [
    "#Counting these 36 values according to number of units\n",
    "df[df.occupancy_type==3][df.loan_type==2].total_units.value_counts()"
   ]
  },
  {
   "cell_type": "markdown",
   "metadata": {},
   "source": [
    "##### Confused by this.... FHA loans should always be classified as a primary residence occupancy, and can only be investment if it has more than one unit, so this is very weird that we would even see any loans here. Also, as we will see later, I'm not sure why occupancy doesn't have a higher weight on classifying between Conventional and FHA. "
   ]
  },
  {
   "cell_type": "markdown",
   "metadata": {},
   "source": [
    "### total_units\n",
    "\n",
    "Description: The number of individual dwelling units related to the property securing the covered loan or, in the case of an application, proposed to secure the covered loan\n",
    "Values:\n",
    "- 1\n",
    "- 2\n",
    "- 3\n",
    "- 4\n",
    "- 5-24\n",
    "- 25-49\n",
    "- 50-99\n",
    "- 100-149\n",
    "- more than 149"
   ]
  },
  {
   "cell_type": "code",
   "execution_count": 30,
   "metadata": {},
   "outputs": [
    {
     "data": {
      "text/plain": [
       "1    559978\n",
       "1    423415\n",
       "2     10065\n",
       "2      7293\n",
       "3      2464\n",
       "4      2406\n",
       "3      1845\n",
       "4      1657\n",
       "Name: total_units, dtype: int64"
      ]
     },
     "execution_count": 30,
     "metadata": {},
     "output_type": "execute_result"
    }
   ],
   "source": [
    "df.total_units.value_counts()"
   ]
  },
  {
   "cell_type": "code",
   "execution_count": 31,
   "metadata": {},
   "outputs": [
    {
     "data": {
      "text/plain": [
       "1    983393\n",
       "2     17358\n",
       "3      4309\n",
       "4      4063\n",
       "Name: total_units, dtype: int64"
      ]
     },
     "execution_count": 31,
     "metadata": {},
     "output_type": "execute_result"
    }
   ],
   "source": [
    "#some are given string values and some have int64, so here we group the categories together\n",
    "df.loc[df['total_units'] == '1', 'total_units'] = 1\n",
    "df.loc[df['total_units'] == '2', 'total_units'] = 2\n",
    "df.loc[df['total_units'] == '3', 'total_units'] = 3\n",
    "df.loc[df['total_units'] == '4', 'total_units'] = 4\n",
    "df.total_units.value_counts()"
   ]
  },
  {
   "cell_type": "markdown",
   "metadata": {},
   "source": [
    "### income\n",
    "\n",
    "Description: The gross annual income, in thousands of dollars, relied on in making the credit decision, or if a credit decision was not made, the gross annual income relied on in processing the application\n",
    "\n",
    "Values:\n",
    "Varying values"
   ]
  },
  {
   "cell_type": "code",
   "execution_count": 32,
   "metadata": {},
   "outputs": [
    {
     "name": "stdout",
     "output_type": "stream",
     "text": [
      "-8820.0 2356788.0\n"
     ]
    }
   ],
   "source": [
    "income_min = df.income.min()\n",
    "income_max = df.income.max()\n",
    "print(income_min, income_max)"
   ]
  },
  {
   "cell_type": "markdown",
   "metadata": {},
   "source": [
    "It looks like there are some income values that are less than zero, and I'm going to just make those equal to zero."
   ]
  },
  {
   "cell_type": "code",
   "execution_count": 33,
   "metadata": {},
   "outputs": [],
   "source": [
    "df.loc[df['income'] <= 0, 'income']=0"
   ]
  },
  {
   "cell_type": "markdown",
   "metadata": {},
   "source": [
    "It seems really unlikely that the higher income amounts were entered in \"thousands\" here, but don't see a way to easily distinguish where this was missed..."
   ]
  },
  {
   "cell_type": "code",
   "execution_count": 34,
   "metadata": {},
   "outputs": [
    {
     "data": {
      "text/plain": [
       "2650"
      ]
     },
     "execution_count": 34,
     "metadata": {},
     "output_type": "execute_result"
    }
   ],
   "source": [
    "len(df[df.income>3000]) #entries with income over \"$3M\" per year"
   ]
  },
  {
   "cell_type": "code",
   "execution_count": 35,
   "metadata": {},
   "outputs": [
    {
     "data": {
      "text/plain": [
       "1694"
      ]
     },
     "execution_count": 35,
     "metadata": {},
     "output_type": "execute_result"
    }
   ],
   "source": [
    "len(df[df.income>10000]) #entries with income over \"$10M\" per year"
   ]
  },
  {
   "cell_type": "code",
   "execution_count": 36,
   "metadata": {},
   "outputs": [
    {
     "data": {
      "text/plain": [
       "746"
      ]
     },
     "execution_count": 36,
     "metadata": {},
     "output_type": "execute_result"
    }
   ],
   "source": [
    "len(df[df.income>100000]) #entries with income over \"$100M\" per year"
   ]
  },
  {
   "cell_type": "code",
   "execution_count": 37,
   "metadata": {},
   "outputs": [
    {
     "data": {
      "text/plain": [
       "1328913    2356788.0\n",
       "1328327    1949652.0\n",
       "1344316    1200000.0\n",
       "1327603    1022330.0\n",
       "1329024     911124.0\n",
       "508811      858903.0\n",
       "1329262     856593.0\n",
       "1327226     747477.0\n",
       "1329165     740243.0\n",
       "1326989     709556.0\n",
       "1327429     690307.0\n",
       "1328498     673132.0\n",
       "1327054     672216.0\n",
       "1327210     657725.0\n",
       "1328110     637011.0\n",
       "1329679     622674.0\n",
       "1327656     618425.0\n",
       "1327064     601713.0\n",
       "1326968     587946.0\n",
       "1329215     570060.0\n",
       "Name: income, dtype: float64"
      ]
     },
     "execution_count": 37,
     "metadata": {},
     "output_type": "execute_result"
    }
   ],
   "source": [
    "df.income.nlargest(n=20,keep='all')"
   ]
  },
  {
   "cell_type": "code",
   "execution_count": 38,
   "metadata": {},
   "outputs": [
    {
     "data": {
      "image/png": "[encoded data removed]",
      "text/plain": [
       "<Figure size 432x288 with 1 Axes>"
      ]
     },
     "metadata": {
      "needs_background": "light"
     },
     "output_type": "display_data"
    }
   ],
   "source": [
    "plt.hist(df.income.nsmallest(n=999900,keep='all'), bins=50)\n",
    "plt.xlabel(\"Income (in thousands of $)\")\n",
    "plt.ylabel(\"Frequency\")\n",
    "plt.title(\"Distribution of Income\")\n",
    "plt.show()"
   ]
  },
  {
   "cell_type": "code",
   "execution_count": 39,
   "metadata": {},
   "outputs": [
    {
     "data": {
      "image/png": "[encoded data removed]",
      "text/plain": [
       "<Figure size 432x288 with 1 Axes>"
      ]
     },
     "metadata": {
      "needs_background": "light"
     },
     "output_type": "display_data"
    }
   ],
   "source": [
    "plt.hist(df.income.nsmallest(n=850000,keep='all'), bins=30)\n",
    "plt.xlabel(\"Income (in thousands of $)\")\n",
    "plt.ylabel(\"Frequency\")\n",
    "plt.title(\"Distribution of Income\")\n",
    "plt.show()"
   ]
  },
  {
   "cell_type": "code",
   "execution_count": 40,
   "metadata": {},
   "outputs": [
    {
     "name": "stdout",
     "output_type": "stream",
     "text": [
      "The mean income is: $359930.0/yr and the median income is: $111000.0/yr\n"
     ]
    }
   ],
   "source": [
    "mean_income = np.around(np.mean(df.income),decimals=2)\n",
    "median_income = np.around(np.median(df.income),decimals=2)\n",
    "\n",
    "print(\"The mean income is: $\"+str(mean_income*1000)+\"/yr and the median income is: $\"+str(median_income*1000)+\"/yr\")"
   ]
  },
  {
   "cell_type": "markdown",
   "metadata": {},
   "source": [
    "This is a high average, even for CA, so I'm still questioning whether or not the data is accurate."
   ]
  },
  {
   "cell_type": "markdown",
   "metadata": {},
   "source": [
    "### debt_to_income_ratio\n",
    "\n",
    "Description: The ratio, as a percentage, of the applicant’s or borrower’s total monthly debt to the total monthly income relied on in making the credit decision\n",
    "Varying values; Ratios binned are:\n",
    "- less than 20%\n",
    "- 20%-<30%\n",
    "- 30%-<36%\n",
    "- 37%\n",
    "- 38%\n",
    "- 39%\n",
    "- 40%\n",
    "- 41%\n",
    "- 42%\n",
    "- 43%\n",
    "- 44%\n",
    "- 45%\n",
    "- 46%\n",
    "- 47%\n",
    "- 48%\n",
    "- 49%\n",
    "- 50%-60%\n",
    "- more than 60%\n",
    "- NA\n",
    "- Exempt\n",
    "\n",
    "Here I will re-bin some of these so we have less categories."
   ]
  },
  {
   "cell_type": "code",
   "execution_count": 41,
   "metadata": {},
   "outputs": [],
   "source": [
    "#Re-binning some of the DTI percentages to minimize how many categories we have here\n",
    "df.loc[df['debt_to_income_ratio'] == '49', 'debt_to_income_ratio'] = '45%-<50%'\n",
    "df.loc[df['debt_to_income_ratio'] == '48', 'debt_to_income_ratio'] = '45%-<50%'\n",
    "df.loc[df['debt_to_income_ratio'] == '47', 'debt_to_income_ratio'] = '45%-<50%'\n",
    "df.loc[df['debt_to_income_ratio'] == '46', 'debt_to_income_ratio'] = '45%-<50%'\n",
    "df.loc[df['debt_to_income_ratio'] == '45', 'debt_to_income_ratio'] = '45%-<50%'\n",
    "\n",
    "df.loc[df['debt_to_income_ratio'] == '40', 'debt_to_income_ratio'] = '40%-<45%'\n",
    "df.loc[df['debt_to_income_ratio'] == '41', 'debt_to_income_ratio'] = '41%-<45%'\n",
    "df.loc[df['debt_to_income_ratio'] == '42', 'debt_to_income_ratio'] = '42%-<45%'\n",
    "df.loc[df['debt_to_income_ratio'] == '43', 'debt_to_income_ratio'] = '43%-<45%'\n",
    "df.loc[df['debt_to_income_ratio'] == '44', 'debt_to_income_ratio'] = '44%-<45%'\n",
    "\n",
    "df.loc[df['debt_to_income_ratio'] == '39', 'debt_to_income_ratio'] = '37%-<40%'\n",
    "df.loc[df['debt_to_income_ratio'] == '38', 'debt_to_income_ratio'] = '37%-<40%'\n",
    "df.loc[df['debt_to_income_ratio'] == '37', 'debt_to_income_ratio'] = '37%-<40%'\n",
    "df.loc[df['debt_to_income_ratio'] == '36', 'debt_to_income_ratio'] = '37%-<40%'\n",
    "df.loc[df['debt_to_income_ratio'] == '35', 'debt_to_income_ratio'] = '37%-<40%'\n",
    "\n",
    "\n",
    "\n"
   ]
  },
  {
   "cell_type": "code",
   "execution_count": 42,
   "metadata": {},
   "outputs": [
    {
     "data": {
      "text/plain": [
       "<matplotlib.axes._subplots.AxesSubplot at 0x1a27b9ba90>"
      ]
     },
     "execution_count": 42,
     "metadata": {},
     "output_type": "execute_result"
    },
    {
     "data": {
      "image/png": "[encoded data removed]",
      "text/plain": [
       "<Figure size 432x288 with 1 Axes>"
      ]
     },
     "metadata": {
      "needs_background": "light"
     },
     "output_type": "display_data"
    }
   ],
   "source": [
    "df.debt_to_income_ratio.value_counts()\n",
    "df.groupby('debt_to_income_ratio').size().plot(kind='bar')"
   ]
  },
  {
   "cell_type": "markdown",
   "metadata": {},
   "source": [
    "### TARGET : loan_type"
   ]
  },
  {
   "cell_type": "code",
   "execution_count": 43,
   "metadata": {},
   "outputs": [
    {
     "data": {
      "text/plain": [
       "1    909416\n",
       "2     99707\n",
       "Name: loan_type, dtype: int64"
      ]
     },
     "execution_count": 43,
     "metadata": {},
     "output_type": "execute_result"
    }
   ],
   "source": [
    "\n",
    "df.loan_type.value_counts()"
   ]
  },
  {
   "cell_type": "code",
   "execution_count": null,
   "metadata": {},
   "outputs": [],
   "source": []
  },
  {
   "cell_type": "markdown",
   "metadata": {},
   "source": [
    "# EDA\n",
    "\n",
    "I'll start by just taking a look at some continuous-valued attributes to identify any patterns I see. Let's start with income vs. loan_amount:"
   ]
  },
  {
   "cell_type": "code",
   "execution_count": 44,
   "metadata": {
    "scrolled": false
   },
   "outputs": [
    {
     "data": {
      "image/png": "[encoded data removed]",
      "text/plain": [
       "<Figure size 432x288 with 1 Axes>"
      ]
     },
     "metadata": {
      "needs_background": "light"
     },
     "output_type": "display_data"
    }
   ],
   "source": [
    "plt.scatter(df.income,df.loan_amount)\n",
    "plt.xlabel(\"Income\")\n",
    "plt.ylabel(\"Loan Amount\")\n",
    "plt.title(\"Income vs. Loan Amount\")\n",
    "\n",
    "plt.show()"
   ]
  },
  {
   "cell_type": "markdown",
   "metadata": {},
   "source": [
    "It looks like the visual is too zoomed out to see the patterns here, so I will section it off to really see what's going on. At first glance, it looks like there may be a few different trends in different portions of the plot."
   ]
  },
  {
   "cell_type": "markdown",
   "metadata": {},
   "source": [
    "##### I'm not sure exactly what these 2 branches are, and it's concerning me that some data wasn't entered with income in thousands..."
   ]
  },
  {
   "cell_type": "code",
   "execution_count": 45,
   "metadata": {},
   "outputs": [
    {
     "data": {
      "image/png": "[encoded data removed]",
      "text/plain": [
       "<Figure size 432x288 with 1 Axes>"
      ]
     },
     "metadata": {
      "needs_background": "light"
     },
     "output_type": "display_data"
    }
   ],
   "source": [
    "df_loan_cap_1M = df[df.loan_amount<1000000]\n",
    "plt.scatter(df_loan_cap_1M.income,df_loan_cap_1M.loan_amount)\n",
    "plt.xlabel(\"Income\")\n",
    "plt.ylabel(\"Loan Amount\")\n",
    "plt.title(\"Income vs. Loan Amount\")\n",
    "plt.show()"
   ]
  },
  {
   "cell_type": "code",
   "execution_count": 46,
   "metadata": {},
   "outputs": [
    {
     "data": {
      "image/png": "[encoded data removed]",
      "text/plain": [
       "<Figure size 432x288 with 1 Axes>"
      ]
     },
     "metadata": {
      "needs_background": "light"
     },
     "output_type": "display_data"
    }
   ],
   "source": [
    "#Here we have loan_amount limit of $5,000,000 and income limit of $5,000,000\n",
    "plt.scatter(df.income,df.loan_amount)\n",
    "plt.xlabel(\"Income\")\n",
    "plt.ylabel(\"Loan Amount\")\n",
    "plt.title(\"Income vs. Loan Amount\")\n",
    "plt.xlim(0,5000)\n",
    "plt.ylim(0,5000000)\n",
    "plt.show()"
   ]
  },
  {
   "cell_type": "code",
   "execution_count": 47,
   "metadata": {},
   "outputs": [
    {
     "name": "stdout",
     "output_type": "stream",
     "text": [
      "5000.0 49905000.0\n"
     ]
    }
   ],
   "source": [
    "#range of loan amounts\n",
    "max_loan_amount = df.loan_amount.max()\n",
    "min_loan_amount = df.loan_amount.min()\n",
    "print(min_loan_amount, max_loan_amount)"
   ]
  },
  {
   "cell_type": "code",
   "execution_count": 48,
   "metadata": {},
   "outputs": [
    {
     "data": {
      "text/plain": [
       "567515    107909.0\n",
       "Name: income, dtype: float64"
      ]
     },
     "execution_count": 48,
     "metadata": {},
     "output_type": "execute_result"
    }
   ],
   "source": [
    "#income of the applicant for the highest loan amount\n",
    "df.income[df.loc[df['loan_amount'] == df.loan_amount.max()].index]"
   ]
  },
  {
   "cell_type": "code",
   "execution_count": 49,
   "metadata": {},
   "outputs": [
    {
     "data": {
      "text/plain": [
       "1328913    1775000.0\n",
       "Name: loan_amount, dtype: float64"
      ]
     },
     "execution_count": 49,
     "metadata": {},
     "output_type": "execute_result"
    }
   ],
   "source": [
    "#loan amount of the applicant with the highest income, supposedly $2B/year income...\n",
    "#Why would they apply for a $1,775,000 loan \n",
    "df.loan_amount[df.loc[df['income'] == df.income.max()].index]"
   ]
  },
  {
   "cell_type": "code",
   "execution_count": 50,
   "metadata": {},
   "outputs": [
    {
     "data": {
      "image/png": "[encoded data removed]",
      "text/plain": [
       "<Figure size 432x288 with 1 Axes>"
      ]
     },
     "metadata": {
      "needs_background": "light"
     },
     "output_type": "display_data"
    }
   ],
   "source": [
    "plt.scatter(df.income,df.loan_amount)\n",
    "plt.xlabel(\"Income\")\n",
    "plt.ylabel(\"Loan Amount\")\n",
    "plt.title(\"Income vs. Loan Amount\")\n",
    "plt.xlim(0,15000)\n",
    "#plt.ylim(0,5000000)\n",
    "plt.show()"
   ]
  },
  {
   "cell_type": "markdown",
   "metadata": {},
   "source": [
    "It looks like around 11M/year there is a cutoff where we see the second branch of the graph coming out. This is where I believe there is an issue with how the data was collected. There are only about 1600 entries above that, so I'm thinking it makes the most sense to get rid of these ones... Not sure if it will help the model at all, but it seems like it could.\n",
    "\n",
    "##### if income were really in thousands, then the following graph would be loans for people with gross annual income of over 10,000,000/yr...\n"
   ]
  },
  {
   "cell_type": "code",
   "execution_count": 51,
   "metadata": {},
   "outputs": [
    {
     "data": {
      "image/png": "[encoded data removed]",
      "text/plain": [
       "<Figure size 432x288 with 1 Axes>"
      ]
     },
     "metadata": {
      "needs_background": "light"
     },
     "output_type": "display_data"
    }
   ],
   "source": [
    "#Here we have loan_amount limit of $10,000,000 and only income above $10,000,000/yr all the way to $2.3 Billion/yr\n",
    "plt.scatter(df.income,df.loan_amount)\n",
    "plt.xlabel(\"Income\")\n",
    "plt.ylabel(\"Loan Amount\")\n",
    "plt.title(\"Income vs. Loan Amount\")\n",
    "plt.xlim(10000,income_max)\n",
    "plt.ylim(0,10000000)\n",
    "plt.show()"
   ]
  },
  {
   "cell_type": "code",
   "execution_count": 52,
   "metadata": {},
   "outputs": [],
   "source": [
    "df.loc[df['income']>5000,'income'] = df['income']*.001"
   ]
  },
  {
   "cell_type": "code",
   "execution_count": 53,
   "metadata": {
    "scrolled": true
   },
   "outputs": [
    {
     "data": {
      "image/png": "[encoded data removed]",
      "text/plain": [
       "<Figure size 432x288 with 1 Axes>"
      ]
     },
     "metadata": {
      "needs_background": "light"
     },
     "output_type": "display_data"
    }
   ],
   "source": [
    "plt.scatter(df.income,df.loan_amount)\n",
    "plt.xlabel(\"Income\")\n",
    "plt.ylabel(\"Loan Amount\")\n",
    "plt.title(\"Income vs. Loan Amount\")\n",
    "\n",
    "plt.show()"
   ]
  },
  {
   "cell_type": "code",
   "execution_count": 54,
   "metadata": {},
   "outputs": [
    {
     "data": {
      "image/png": "[encoded data removed]",
      "text/plain": [
       "<Figure size 432x288 with 1 Axes>"
      ]
     },
     "metadata": {
      "needs_background": "light"
     },
     "output_type": "display_data"
    }
   ],
   "source": [
    "plt.hist(df.loan_amount.nsmallest(n=900000,keep='all'), bins=60)\n",
    "plt.xlabel(\"Loan Amount\")\n",
    "plt.ylabel(\"Frequency\")\n",
    "plt.title(\"Distribution of Loan Amount\")\n",
    "plt.show()"
   ]
  },
  {
   "cell_type": "markdown",
   "metadata": {},
   "source": [
    "I can see a trend here behind the loan amounts that are more common. Looks like mean is somewhere in the $300K range"
   ]
  },
  {
   "cell_type": "code",
   "execution_count": 55,
   "metadata": {},
   "outputs": [
    {
     "name": "stdout",
     "output_type": "stream",
     "text": [
      "The average loan_amount is: $366055.74 and the median loan_amount is: $285000.0\n",
      "The mean income is: $153110.0/yr and the median income is: $110000.0/yr\n"
     ]
    }
   ],
   "source": [
    "mean_loan = np.around(np.mean(df.loan_amount),decimals=2)\n",
    "median_loan = np.around(np.median(df.loan_amount),decimals=2)\n",
    "\n",
    "print(\"The average loan_amount is: $\"+str(mean_loan)+\" and the median loan_amount is: $\"+str(median_loan))\n",
    "\n",
    "mean_income = np.around(np.mean(df.income),decimals=2)\n",
    "median_income = np.around(np.median(df.income),decimals=2)\n",
    "\n",
    "print(\"The mean income is: $\"+str(mean_income*1000)+\"/yr and the median income is: $\"+str(median_income*1000)+\"/yr\")"
   ]
  },
  {
   "cell_type": "code",
   "execution_count": null,
   "metadata": {
    "scrolled": true
   },
   "outputs": [],
   "source": []
  },
  {
   "cell_type": "code",
   "execution_count": null,
   "metadata": {},
   "outputs": [],
   "source": []
  },
  {
   "cell_type": "code",
   "execution_count": 56,
   "metadata": {},
   "outputs": [],
   "source": [
    "transformed_df = pd.get_dummies(df)"
   ]
  },
  {
   "cell_type": "code",
   "execution_count": 57,
   "metadata": {},
   "outputs": [],
   "source": [
    "def multi_collinearity_heatmap(df, figsize=(11,9)):\n",
    "    \n",
    "    \"\"\"\n",
    "    Creates a heatmap of correlations between features in the df. A figure size can optionally be set.\n",
    "    \"\"\"\n",
    "    \n",
    "    # Set the style of the visualization\n",
    "    sns.set(style=\"white\")\n",
    "\n",
    "    # Create a covariance matrix\n",
    "    corr = df.corr()\n",
    "\n",
    "    # Generate a mask the size of our covariance matrix\n",
    "    mask = np.zeros_like(corr, dtype=np.bool)\n",
    "    mask[np.triu_indices_from(mask)] = True\n",
    "\n",
    "    # Set up the matplotlib figure\n",
    "    f, ax = plt.subplots(figsize=figsize)\n",
    "\n",
    "    # Generate a custom diverging colormap\n",
    "    cmap = sns.diverging_palette(220, 10, as_cmap=True)\n",
    "\n",
    "    # Draw the heatmap with the mask and correct aspect ratio\n",
    "    sns.heatmap(corr, mask=mask, cmap=cmap, center=0, square=True, linewidths=.5, cbar_kws={\"shrink\": .5}, vmax=corr[corr != 1.0].max().max());"
   ]
  },
  {
   "cell_type": "code",
   "execution_count": 58,
   "metadata": {},
   "outputs": [],
   "source": [
    "#These showed higher collinearity (above 0.8) and also had little to no importance on the model, so I will now drop them\n",
    "transformed_df.drop(['tract_median_age_of_housing_units','tract_owner_occupied_units',\n",
    "                     'tract_one_to_four_family_homes', 'tract_population'],axis=1,inplace=True)\n",
    "transformed_df.drop(['interest_only_payment','total_units_1','total_units_2','total_units_3','total_units_4','balloon_payment','preapproval'],axis=1,inplace=True)"
   ]
  },
  {
   "cell_type": "code",
   "execution_count": 59,
   "metadata": {},
   "outputs": [],
   "source": [
    "transformed_df.drop(['tract_to_msa_income_percentage',\n",
    "                     'tract_minority_population_percent'],axis=1,inplace=True)"
   ]
  },
  {
   "cell_type": "code",
   "execution_count": 60,
   "metadata": {},
   "outputs": [
    {
     "data": {
      "image/png": "[encoded data removed]",
      "text/plain": [
       "<Figure size 1800x1584 with 2 Axes>"
      ]
     },
     "metadata": {},
     "output_type": "display_data"
    }
   ],
   "source": [
    "multi_collinearity_heatmap(transformed_df, figsize=(25,22))"
   ]
  },
  {
   "cell_type": "code",
   "execution_count": 61,
   "metadata": {},
   "outputs": [],
   "source": [
    "# Separating X and y\n",
    "X = transformed_df.drop('loan_type', axis=1)\n",
    "y = transformed_df.loan_type"
   ]
  },
  {
   "cell_type": "code",
   "execution_count": 62,
   "metadata": {},
   "outputs": [],
   "source": [
    "X_train, X_test, y_train, y_test = train_test_split(X, y, test_size=0.2, random_state=123)"
   ]
  },
  {
   "cell_type": "code",
   "execution_count": 63,
   "metadata": {},
   "outputs": [
    {
     "data": {
      "text/plain": [
       "RandomForestClassifier(bootstrap=True, ccp_alpha=0.0, class_weight=None,\n",
       "                       criterion='gini', max_depth=20, max_features='auto',\n",
       "                       max_leaf_nodes=None, max_samples=None,\n",
       "                       min_impurity_decrease=0.0, min_impurity_split=None,\n",
       "                       min_samples_leaf=1, min_samples_split=2,\n",
       "                       min_weight_fraction_leaf=0.0, n_estimators=1000,\n",
       "                       n_jobs=None, oob_score=False, random_state=None,\n",
       "                       verbose=0, warm_start=False)"
      ]
     },
     "execution_count": 63,
     "metadata": {},
     "output_type": "execute_result"
    }
   ],
   "source": [
    "from sklearn.ensemble import RandomForestClassifier\n",
    "\n",
    "rfr = RandomForestClassifier(n_estimators=1000, max_depth=20)\n",
    "#param_grid = [\n",
    "  #{'max_depth': [5,15,20]}\n",
    "#]\n",
    "#grid_search = GridSearchCV(estimator=rfr, param_grid=param_grid, cv=3, verbose=-1)\n",
    "#grid_search.fit(X_train, y_train)\n",
    "\n",
    "rfr.fit(X_train, y_train)"
   ]
  },
  {
   "cell_type": "code",
   "execution_count": 64,
   "metadata": {},
   "outputs": [],
   "source": [
    "train_rf_predictions = rfr.predict(X_train)\n",
    "train_rf_probs = rfr.predict_proba(X_train)[:, 1]\n",
    "\n",
    "rf_predictions = rfr.predict(X_test)\n",
    "rf_probs = rfr.predict_proba(X_test)[:, 1]"
   ]
  },
  {
   "cell_type": "code",
   "execution_count": 65,
   "metadata": {},
   "outputs": [],
   "source": [
    "def evaluate_model(predictions, probs, train_predictions, train_probs):\n",
    "    \"\"\"Compare machine learning model to baseline performance.\n",
    "    Computes statistics and shows ROC curve.\"\"\"\n",
    "    \n",
    "    baseline = {}\n",
    "    \n",
    "    \n",
    "    baseline['precision'] = precision_score(y_test, [1 for _ in range(len(y_test))])\n",
    "    baseline['roc'] = 0.5\n",
    "    \n",
    "    results = {}\n",
    "    \n",
    "    \n",
    "    results['precision'] = precision_score(y_test, predictions)\n",
    "    results['roc'] = roc_auc_score(y_test, probs)\n",
    "    \n",
    "    train_results = {}\n",
    "    \n",
    "    train_results['precision'] = precision_score(y_train, train_predictions)\n",
    "    train_results['roc'] = roc_auc_score(y_train, train_probs)\n",
    "    \n",
    "    for metric in ['precision', 'roc']:\n",
    "        print(f'{metric.capitalize()} Baseline: {round(baseline[metric], 2)} Test: {round(results[metric], 2)} Train: {round(train_results[metric], 2)}')\n",
    "    \n",
    "    # Calculate false positive rates and true positive rates\n",
    "    base_fpr, base_tpr, _ = roc_curve(y_test, [1 for _ in range(len(y_test))], pos_label=2)\n",
    "    model_fpr, model_tpr, _ = roc_curve(y_test, probs, pos_label=2)\n",
    "\n",
    "    plt.figure(figsize = (8, 6))\n",
    "    plt.rcParams['font.size'] = 16\n",
    "    \n",
    "    # Plot both curves\n",
    "    plt.plot(base_fpr, base_tpr, 'b', label = 'baseline')\n",
    "    plt.plot(model_fpr, model_tpr, 'r', label = 'model')\n",
    "    plt.legend();\n",
    "    plt.xlabel('False Positive Rate'); plt.ylabel('True Positive Rate'); plt.title('ROC Curves');"
   ]
  },
  {
   "cell_type": "code",
   "execution_count": 66,
   "metadata": {},
   "outputs": [
    {
     "name": "stdout",
     "output_type": "stream",
     "text": [
      "Precision Baseline: 0.9 Test: 0.93 Train: 0.93\n",
      "Roc Baseline: 0.5 Test: 0.89 Train: 0.93\n"
     ]
    },
    {
     "data": {
      "image/png": "[encoded data removed]",
      "text/plain": [
       "<Figure size 576x432 with 1 Axes>"
      ]
     },
     "metadata": {},
     "output_type": "display_data"
    }
   ],
   "source": [
    "from sklearn.metrics import precision_score, recall_score, roc_auc_score, roc_curve\n",
    "\n",
    "evaluate_model(rf_predictions, rf_probs, train_rf_predictions, train_rf_probs)"
   ]
  },
  {
   "cell_type": "code",
   "execution_count": null,
   "metadata": {},
   "outputs": [],
   "source": []
  },
  {
   "cell_type": "code",
   "execution_count": 67,
   "metadata": {},
   "outputs": [
    {
     "data": {
      "text/html": [
       "<div>\n",
       "<style scoped>\n",
       "    .dataframe tbody tr th:only-of-type {\n",
       "        vertical-align: middle;\n",
       "    }\n",
       "\n",
       "    .dataframe tbody tr th {\n",
       "        vertical-align: top;\n",
       "    }\n",
       "\n",
       "    .dataframe thead th {\n",
       "        text-align: right;\n",
       "    }\n",
       "</style>\n",
       "<table border=\"1\" class=\"dataframe\">\n",
       "  <thead>\n",
       "    <tr style=\"text-align: right;\">\n",
       "      <th></th>\n",
       "      <th>weight</th>\n",
       "    </tr>\n",
       "  </thead>\n",
       "  <tbody>\n",
       "    <tr>\n",
       "      <th>debt_to_income_ratio_40%-&lt;45%</th>\n",
       "      <td>0.001327</td>\n",
       "    </tr>\n",
       "    <tr>\n",
       "      <th>debt_to_income_ratio_41%-&lt;45%</th>\n",
       "      <td>0.001584</td>\n",
       "    </tr>\n",
       "    <tr>\n",
       "      <th>debt_to_income_ratio_42%-&lt;45%</th>\n",
       "      <td>0.001690</td>\n",
       "    </tr>\n",
       "    <tr>\n",
       "      <th>debt_to_income_ratio_43%-&lt;45%</th>\n",
       "      <td>0.001896</td>\n",
       "    </tr>\n",
       "    <tr>\n",
       "      <th>debt_to_income_ratio_44%-&lt;45%</th>\n",
       "      <td>0.003437</td>\n",
       "    </tr>\n",
       "    <tr>\n",
       "      <th>debt_to_income_ratio_&lt;20%</th>\n",
       "      <td>0.003437</td>\n",
       "    </tr>\n",
       "    <tr>\n",
       "      <th>debt_to_income_ratio_37%-&lt;40%</th>\n",
       "      <td>0.003630</td>\n",
       "    </tr>\n",
       "    <tr>\n",
       "      <th>debt_to_income_ratio_30%-&lt;36%</th>\n",
       "      <td>0.005748</td>\n",
       "    </tr>\n",
       "    <tr>\n",
       "      <th>debt_to_income_ratio_45%-&lt;50%</th>\n",
       "      <td>0.006432</td>\n",
       "    </tr>\n",
       "    <tr>\n",
       "      <th>debt_to_income_ratio_&gt;60%</th>\n",
       "      <td>0.008327</td>\n",
       "    </tr>\n",
       "    <tr>\n",
       "      <th>debt_to_income_ratio_20%-&lt;30%</th>\n",
       "      <td>0.008837</td>\n",
       "    </tr>\n",
       "    <tr>\n",
       "      <th>construction_method</th>\n",
       "      <td>0.010643</td>\n",
       "    </tr>\n",
       "    <tr>\n",
       "      <th>conforming_loan_limit_1</th>\n",
       "      <td>0.013729</td>\n",
       "    </tr>\n",
       "    <tr>\n",
       "      <th>conforming_loan_limit_2</th>\n",
       "      <td>0.013843</td>\n",
       "    </tr>\n",
       "    <tr>\n",
       "      <th>occupancy_type</th>\n",
       "      <td>0.039094</td>\n",
       "    </tr>\n",
       "    <tr>\n",
       "      <th>lien_status</th>\n",
       "      <td>0.084953</td>\n",
       "    </tr>\n",
       "    <tr>\n",
       "      <th>loan_purpose</th>\n",
       "      <td>0.133347</td>\n",
       "    </tr>\n",
       "    <tr>\n",
       "      <th>loan_amount</th>\n",
       "      <td>0.196566</td>\n",
       "    </tr>\n",
       "    <tr>\n",
       "      <th>income</th>\n",
       "      <td>0.214455</td>\n",
       "    </tr>\n",
       "    <tr>\n",
       "      <th>debt_to_income_ratio_50%-60%</th>\n",
       "      <td>0.247025</td>\n",
       "    </tr>\n",
       "  </tbody>\n",
       "</table>\n",
       "</div>"
      ],
      "text/plain": [
       "                                 weight\n",
       "debt_to_income_ratio_40%-<45%  0.001327\n",
       "debt_to_income_ratio_41%-<45%  0.001584\n",
       "debt_to_income_ratio_42%-<45%  0.001690\n",
       "debt_to_income_ratio_43%-<45%  0.001896\n",
       "debt_to_income_ratio_44%-<45%  0.003437\n",
       "debt_to_income_ratio_<20%      0.003437\n",
       "debt_to_income_ratio_37%-<40%  0.003630\n",
       "debt_to_income_ratio_30%-<36%  0.005748\n",
       "debt_to_income_ratio_45%-<50%  0.006432\n",
       "debt_to_income_ratio_>60%      0.008327\n",
       "debt_to_income_ratio_20%-<30%  0.008837\n",
       "construction_method            0.010643\n",
       "conforming_loan_limit_1        0.013729\n",
       "conforming_loan_limit_2        0.013843\n",
       "occupancy_type                 0.039094\n",
       "lien_status                    0.084953\n",
       "loan_purpose                   0.133347\n",
       "loan_amount                    0.196566\n",
       "income                         0.214455\n",
       "debt_to_income_ratio_50%-60%   0.247025"
      ]
     },
     "execution_count": 67,
     "metadata": {},
     "output_type": "execute_result"
    }
   ],
   "source": [
    "pd.set_option('display.max_rows', None)\n",
    "ft_weights_rfr = pd.DataFrame(rfr.feature_importances_, columns=['weight'], index=X_train.columns)\n",
    "ft_weights_rfr.sort_values('weight', inplace=True)\n",
    "ft_weights_rfr"
   ]
  },
  {
   "cell_type": "code",
   "execution_count": 68,
   "metadata": {},
   "outputs": [
    {
     "data": {
      "image/png": "[encoded data removed]",
      "text/plain": [
       "<Figure size 288x1800 with 1 Axes>"
      ]
     },
     "metadata": {},
     "output_type": "display_data"
    }
   ],
   "source": [
    "plt.figure(figsize=(4,25))\n",
    "plt.barh(ft_weights_rfr.index, ft_weights_rfr.weight, align='center') \n",
    "plt.title(\"Feature importances in the RF model\", fontsize=14)\n",
    "plt.xlabel(\"Feature importance\")\n",
    "plt.margins(y=0.01)\n",
    "plt.show()"
   ]
  },
  {
   "cell_type": "markdown",
   "metadata": {},
   "source": [
    "From looking at the importance of each feature, it looks like we could probably get rid of the total_units, balloon_payment, preapproval and interest_only_payment attributes with little or no consequence."
   ]
  },
  {
   "cell_type": "code",
   "execution_count": null,
   "metadata": {},
   "outputs": [],
   "source": []
  }
 ],
 "metadata": {
  "kernelspec": {
   "display_name": "Python 3",
   "language": "python",
   "name": "python3"
  },
  "language_info": {
   "codemirror_mode": {
    "name": "ipython",
    "version": 3
   },
   "file_extension": ".py",
   "mimetype": "text/x-python",
   "name": "python",
   "nbconvert_exporter": "python",
   "pygments_lexer": "ipython3",
   "version": "3.7.7"
  }
 },
 "nbformat": 4,
 "nbformat_minor": 4
}
